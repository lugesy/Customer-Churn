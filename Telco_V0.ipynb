{
 "cells": [
  {
   "cell_type": "code",
   "execution_count": 162,
   "id": "a3eb04eb",
   "metadata": {},
   "outputs": [],
   "source": [
    "import pandas as pd\n",
    "import matplotlib.pyplot as plt\n",
    "import seaborn as sns\n",
    "import numpy as np\n",
    "\n",
    "from sklearn.preprocessing import StandardScaler\n",
    "# from sklearn.compose import make_column_transformer\n",
    "\n",
    "\n",
    "# MODELS\n",
    "\n",
    "# Import LogisticRegression\n",
    "from sklearn.linear_model import LogisticRegression\n",
    "\n",
    "# Import DecisionTreeClassifier\n",
    "from sklearn.tree import DecisionTreeClassifier\n",
    "\n",
    "# Import Support Vector Machines\n",
    "from sklearn.svm import SVC \n",
    "\n",
    "# Import RandomForestClassifier\n",
    "from sklearn.ensemble import RandomForestClassifier\n",
    "\n",
    "\n",
    "# MODEL EVAUATION\n",
    "\n",
    "# Import train_test_split \n",
    "from sklearn.model_selection import train_test_split\n",
    "\n",
    "from sklearn.metrics import accuracy_score\n",
    "\n",
    "# Import confusion_matrix\n",
    "from sklearn.metrics import confusion_matrix\n",
    "\n",
    "# Import precision score\n",
    "from sklearn.metrics import precision_score\n",
    "\n",
    "# Import recall_score\n",
    "from sklearn.metrics import recall_score\n",
    "\n",
    "# Import roc_curve\n",
    "from sklearn.metrics import roc_curve\n",
    "\n",
    "# Import roc_auc_score\n",
    "from sklearn.metrics import roc_auc_score\n",
    "\n",
    "# Import f1_score\n",
    "from sklearn.metrics import f1_score\n",
    "\n",
    "# Model Tuning\n",
    "# Import GridSearchCV\n",
    "from sklearn.model_selection import GridSearchCV\n",
    "\n",
    "# Import RandomizedSearchCV (Handy if the Hyperparameter Grid gets larger)\n",
    "from sklearn.model_selection import RandomizedSearchCV"
   ]
  },
  {
   "cell_type": "code",
   "execution_count": 163,
   "id": "d11ef9df",
   "metadata": {},
   "outputs": [],
   "source": [
    "telco = pd.read_csv('Churn.csv')"
   ]
  },
  {
   "cell_type": "markdown",
   "id": "c239f187",
   "metadata": {},
   "source": [
    "## Exploratory Data Analysis"
   ]
  },
  {
   "cell_type": "code",
   "execution_count": 164,
   "id": "9f12f0e5",
   "metadata": {},
   "outputs": [
    {
     "data": {
      "text/html": [
       "<div>\n",
       "<style scoped>\n",
       "    .dataframe tbody tr th:only-of-type {\n",
       "        vertical-align: middle;\n",
       "    }\n",
       "\n",
       "    .dataframe tbody tr th {\n",
       "        vertical-align: top;\n",
       "    }\n",
       "\n",
       "    .dataframe thead th {\n",
       "        text-align: right;\n",
       "    }\n",
       "</style>\n",
       "<table border=\"1\" class=\"dataframe\">\n",
       "  <thead>\n",
       "    <tr style=\"text-align: right;\">\n",
       "      <th></th>\n",
       "      <th>Account_Length</th>\n",
       "      <th>Vmail_Message</th>\n",
       "      <th>Day_Mins</th>\n",
       "      <th>Eve_Mins</th>\n",
       "      <th>Night_Mins</th>\n",
       "      <th>Intl_Mins</th>\n",
       "      <th>CustServ_Calls</th>\n",
       "      <th>Churn</th>\n",
       "      <th>Intl_Plan</th>\n",
       "      <th>Vmail_Plan</th>\n",
       "      <th>...</th>\n",
       "      <th>Day_Charge</th>\n",
       "      <th>Eve_Calls</th>\n",
       "      <th>Eve_Charge</th>\n",
       "      <th>Night_Calls</th>\n",
       "      <th>Night_Charge</th>\n",
       "      <th>Intl_Calls</th>\n",
       "      <th>Intl_Charge</th>\n",
       "      <th>State</th>\n",
       "      <th>Area_Code</th>\n",
       "      <th>Phone</th>\n",
       "    </tr>\n",
       "  </thead>\n",
       "  <tbody>\n",
       "    <tr>\n",
       "      <th>0</th>\n",
       "      <td>128</td>\n",
       "      <td>25</td>\n",
       "      <td>265.1</td>\n",
       "      <td>197.4</td>\n",
       "      <td>244.7</td>\n",
       "      <td>10.0</td>\n",
       "      <td>1</td>\n",
       "      <td>no</td>\n",
       "      <td>no</td>\n",
       "      <td>yes</td>\n",
       "      <td>...</td>\n",
       "      <td>45.07</td>\n",
       "      <td>99</td>\n",
       "      <td>16.78</td>\n",
       "      <td>91</td>\n",
       "      <td>11.01</td>\n",
       "      <td>3</td>\n",
       "      <td>2.70</td>\n",
       "      <td>KS</td>\n",
       "      <td>415</td>\n",
       "      <td>382-4657</td>\n",
       "    </tr>\n",
       "    <tr>\n",
       "      <th>1</th>\n",
       "      <td>107</td>\n",
       "      <td>26</td>\n",
       "      <td>161.6</td>\n",
       "      <td>195.5</td>\n",
       "      <td>254.4</td>\n",
       "      <td>13.7</td>\n",
       "      <td>1</td>\n",
       "      <td>no</td>\n",
       "      <td>no</td>\n",
       "      <td>yes</td>\n",
       "      <td>...</td>\n",
       "      <td>27.47</td>\n",
       "      <td>103</td>\n",
       "      <td>16.62</td>\n",
       "      <td>103</td>\n",
       "      <td>11.45</td>\n",
       "      <td>3</td>\n",
       "      <td>3.70</td>\n",
       "      <td>OH</td>\n",
       "      <td>415</td>\n",
       "      <td>371-7191</td>\n",
       "    </tr>\n",
       "    <tr>\n",
       "      <th>2</th>\n",
       "      <td>137</td>\n",
       "      <td>0</td>\n",
       "      <td>243.4</td>\n",
       "      <td>121.2</td>\n",
       "      <td>162.6</td>\n",
       "      <td>12.2</td>\n",
       "      <td>0</td>\n",
       "      <td>no</td>\n",
       "      <td>no</td>\n",
       "      <td>no</td>\n",
       "      <td>...</td>\n",
       "      <td>41.38</td>\n",
       "      <td>110</td>\n",
       "      <td>10.30</td>\n",
       "      <td>104</td>\n",
       "      <td>7.32</td>\n",
       "      <td>5</td>\n",
       "      <td>3.29</td>\n",
       "      <td>NJ</td>\n",
       "      <td>415</td>\n",
       "      <td>358-1921</td>\n",
       "    </tr>\n",
       "    <tr>\n",
       "      <th>3</th>\n",
       "      <td>84</td>\n",
       "      <td>0</td>\n",
       "      <td>299.4</td>\n",
       "      <td>61.9</td>\n",
       "      <td>196.9</td>\n",
       "      <td>6.6</td>\n",
       "      <td>2</td>\n",
       "      <td>no</td>\n",
       "      <td>yes</td>\n",
       "      <td>no</td>\n",
       "      <td>...</td>\n",
       "      <td>50.90</td>\n",
       "      <td>88</td>\n",
       "      <td>5.26</td>\n",
       "      <td>89</td>\n",
       "      <td>8.86</td>\n",
       "      <td>7</td>\n",
       "      <td>1.78</td>\n",
       "      <td>OH</td>\n",
       "      <td>408</td>\n",
       "      <td>375-9999</td>\n",
       "    </tr>\n",
       "    <tr>\n",
       "      <th>4</th>\n",
       "      <td>75</td>\n",
       "      <td>0</td>\n",
       "      <td>166.7</td>\n",
       "      <td>148.3</td>\n",
       "      <td>186.9</td>\n",
       "      <td>10.1</td>\n",
       "      <td>3</td>\n",
       "      <td>no</td>\n",
       "      <td>yes</td>\n",
       "      <td>no</td>\n",
       "      <td>...</td>\n",
       "      <td>28.34</td>\n",
       "      <td>122</td>\n",
       "      <td>12.61</td>\n",
       "      <td>121</td>\n",
       "      <td>8.41</td>\n",
       "      <td>3</td>\n",
       "      <td>2.73</td>\n",
       "      <td>OK</td>\n",
       "      <td>415</td>\n",
       "      <td>330-6626</td>\n",
       "    </tr>\n",
       "  </tbody>\n",
       "</table>\n",
       "<p>5 rows × 21 columns</p>\n",
       "</div>"
      ],
      "text/plain": [
       "   Account_Length  Vmail_Message  Day_Mins  Eve_Mins  Night_Mins  Intl_Mins  \\\n",
       "0             128             25     265.1     197.4       244.7       10.0   \n",
       "1             107             26     161.6     195.5       254.4       13.7   \n",
       "2             137              0     243.4     121.2       162.6       12.2   \n",
       "3              84              0     299.4      61.9       196.9        6.6   \n",
       "4              75              0     166.7     148.3       186.9       10.1   \n",
       "\n",
       "   CustServ_Calls Churn Intl_Plan Vmail_Plan  ...  Day_Charge  Eve_Calls  \\\n",
       "0               1    no        no        yes  ...       45.07         99   \n",
       "1               1    no        no        yes  ...       27.47        103   \n",
       "2               0    no        no         no  ...       41.38        110   \n",
       "3               2    no       yes         no  ...       50.90         88   \n",
       "4               3    no       yes         no  ...       28.34        122   \n",
       "\n",
       "   Eve_Charge  Night_Calls  Night_Charge  Intl_Calls  Intl_Charge  State  \\\n",
       "0       16.78           91         11.01           3         2.70     KS   \n",
       "1       16.62          103         11.45           3         3.70     OH   \n",
       "2       10.30          104          7.32           5         3.29     NJ   \n",
       "3        5.26           89          8.86           7         1.78     OH   \n",
       "4       12.61          121          8.41           3         2.73     OK   \n",
       "\n",
       "  Area_Code     Phone  \n",
       "0       415  382-4657  \n",
       "1       415  371-7191  \n",
       "2       415  358-1921  \n",
       "3       408  375-9999  \n",
       "4       415  330-6626  \n",
       "\n",
       "[5 rows x 21 columns]"
      ]
     },
     "execution_count": 164,
     "metadata": {},
     "output_type": "execute_result"
    }
   ],
   "source": [
    "telco.head()"
   ]
  },
  {
   "cell_type": "code",
   "execution_count": 165,
   "id": "80d7675a",
   "metadata": {},
   "outputs": [
    {
     "data": {
      "text/plain": [
       "Account_Length      int64\n",
       "Vmail_Message       int64\n",
       "Day_Mins          float64\n",
       "Eve_Mins          float64\n",
       "Night_Mins        float64\n",
       "Intl_Mins         float64\n",
       "CustServ_Calls      int64\n",
       "Churn              object\n",
       "Intl_Plan          object\n",
       "Vmail_Plan         object\n",
       "Day_Calls           int64\n",
       "Day_Charge        float64\n",
       "Eve_Calls           int64\n",
       "Eve_Charge        float64\n",
       "Night_Calls         int64\n",
       "Night_Charge      float64\n",
       "Intl_Calls          int64\n",
       "Intl_Charge       float64\n",
       "State              object\n",
       "Area_Code           int64\n",
       "Phone              object\n",
       "dtype: object"
      ]
     },
     "execution_count": 165,
     "metadata": {},
     "output_type": "execute_result"
    }
   ],
   "source": [
    "telco.dtypes\n",
    "#telco.info()"
   ]
  },
  {
   "cell_type": "code",
   "execution_count": 166,
   "id": "58f0dd0c",
   "metadata": {},
   "outputs": [
    {
     "data": {
      "text/html": [
       "<div>\n",
       "<style scoped>\n",
       "    .dataframe tbody tr th:only-of-type {\n",
       "        vertical-align: middle;\n",
       "    }\n",
       "\n",
       "    .dataframe tbody tr th {\n",
       "        vertical-align: top;\n",
       "    }\n",
       "\n",
       "    .dataframe thead th {\n",
       "        text-align: right;\n",
       "    }\n",
       "</style>\n",
       "<table border=\"1\" class=\"dataframe\">\n",
       "  <thead>\n",
       "    <tr style=\"text-align: right;\">\n",
       "      <th></th>\n",
       "      <th>Account_Length</th>\n",
       "      <th>Vmail_Message</th>\n",
       "      <th>Day_Mins</th>\n",
       "      <th>Eve_Mins</th>\n",
       "      <th>Night_Mins</th>\n",
       "      <th>Intl_Mins</th>\n",
       "      <th>CustServ_Calls</th>\n",
       "      <th>Day_Calls</th>\n",
       "      <th>Day_Charge</th>\n",
       "      <th>Eve_Calls</th>\n",
       "      <th>Eve_Charge</th>\n",
       "      <th>Night_Calls</th>\n",
       "      <th>Night_Charge</th>\n",
       "      <th>Intl_Calls</th>\n",
       "      <th>Intl_Charge</th>\n",
       "      <th>Area_Code</th>\n",
       "    </tr>\n",
       "  </thead>\n",
       "  <tbody>\n",
       "    <tr>\n",
       "      <th>count</th>\n",
       "      <td>3333.000000</td>\n",
       "      <td>3333.000000</td>\n",
       "      <td>3333.000000</td>\n",
       "      <td>3333.000000</td>\n",
       "      <td>3333.000000</td>\n",
       "      <td>3333.000000</td>\n",
       "      <td>3333.000000</td>\n",
       "      <td>3333.000000</td>\n",
       "      <td>3333.000000</td>\n",
       "      <td>3333.000000</td>\n",
       "      <td>3333.000000</td>\n",
       "      <td>3333.000000</td>\n",
       "      <td>3333.000000</td>\n",
       "      <td>3333.000000</td>\n",
       "      <td>3333.000000</td>\n",
       "      <td>3333.000000</td>\n",
       "    </tr>\n",
       "    <tr>\n",
       "      <th>mean</th>\n",
       "      <td>101.064806</td>\n",
       "      <td>8.099010</td>\n",
       "      <td>179.775098</td>\n",
       "      <td>200.980348</td>\n",
       "      <td>200.872037</td>\n",
       "      <td>10.237294</td>\n",
       "      <td>1.562856</td>\n",
       "      <td>100.435644</td>\n",
       "      <td>30.562307</td>\n",
       "      <td>100.114311</td>\n",
       "      <td>17.083540</td>\n",
       "      <td>100.107711</td>\n",
       "      <td>9.039325</td>\n",
       "      <td>4.479448</td>\n",
       "      <td>2.764581</td>\n",
       "      <td>437.182418</td>\n",
       "    </tr>\n",
       "    <tr>\n",
       "      <th>std</th>\n",
       "      <td>39.822106</td>\n",
       "      <td>13.688365</td>\n",
       "      <td>54.467389</td>\n",
       "      <td>50.713844</td>\n",
       "      <td>50.573847</td>\n",
       "      <td>2.791840</td>\n",
       "      <td>1.315491</td>\n",
       "      <td>20.069084</td>\n",
       "      <td>9.259435</td>\n",
       "      <td>19.922625</td>\n",
       "      <td>4.310668</td>\n",
       "      <td>19.568609</td>\n",
       "      <td>2.275873</td>\n",
       "      <td>2.461214</td>\n",
       "      <td>0.753773</td>\n",
       "      <td>42.371290</td>\n",
       "    </tr>\n",
       "    <tr>\n",
       "      <th>min</th>\n",
       "      <td>1.000000</td>\n",
       "      <td>0.000000</td>\n",
       "      <td>0.000000</td>\n",
       "      <td>0.000000</td>\n",
       "      <td>23.200000</td>\n",
       "      <td>0.000000</td>\n",
       "      <td>0.000000</td>\n",
       "      <td>0.000000</td>\n",
       "      <td>0.000000</td>\n",
       "      <td>0.000000</td>\n",
       "      <td>0.000000</td>\n",
       "      <td>33.000000</td>\n",
       "      <td>1.040000</td>\n",
       "      <td>0.000000</td>\n",
       "      <td>0.000000</td>\n",
       "      <td>408.000000</td>\n",
       "    </tr>\n",
       "    <tr>\n",
       "      <th>25%</th>\n",
       "      <td>74.000000</td>\n",
       "      <td>0.000000</td>\n",
       "      <td>143.700000</td>\n",
       "      <td>166.600000</td>\n",
       "      <td>167.000000</td>\n",
       "      <td>8.500000</td>\n",
       "      <td>1.000000</td>\n",
       "      <td>87.000000</td>\n",
       "      <td>24.430000</td>\n",
       "      <td>87.000000</td>\n",
       "      <td>14.160000</td>\n",
       "      <td>87.000000</td>\n",
       "      <td>7.520000</td>\n",
       "      <td>3.000000</td>\n",
       "      <td>2.300000</td>\n",
       "      <td>408.000000</td>\n",
       "    </tr>\n",
       "    <tr>\n",
       "      <th>50%</th>\n",
       "      <td>101.000000</td>\n",
       "      <td>0.000000</td>\n",
       "      <td>179.400000</td>\n",
       "      <td>201.400000</td>\n",
       "      <td>201.200000</td>\n",
       "      <td>10.300000</td>\n",
       "      <td>1.000000</td>\n",
       "      <td>101.000000</td>\n",
       "      <td>30.500000</td>\n",
       "      <td>100.000000</td>\n",
       "      <td>17.120000</td>\n",
       "      <td>100.000000</td>\n",
       "      <td>9.050000</td>\n",
       "      <td>4.000000</td>\n",
       "      <td>2.780000</td>\n",
       "      <td>415.000000</td>\n",
       "    </tr>\n",
       "    <tr>\n",
       "      <th>75%</th>\n",
       "      <td>127.000000</td>\n",
       "      <td>20.000000</td>\n",
       "      <td>216.400000</td>\n",
       "      <td>235.300000</td>\n",
       "      <td>235.300000</td>\n",
       "      <td>12.100000</td>\n",
       "      <td>2.000000</td>\n",
       "      <td>114.000000</td>\n",
       "      <td>36.790000</td>\n",
       "      <td>114.000000</td>\n",
       "      <td>20.000000</td>\n",
       "      <td>113.000000</td>\n",
       "      <td>10.590000</td>\n",
       "      <td>6.000000</td>\n",
       "      <td>3.270000</td>\n",
       "      <td>510.000000</td>\n",
       "    </tr>\n",
       "    <tr>\n",
       "      <th>max</th>\n",
       "      <td>243.000000</td>\n",
       "      <td>51.000000</td>\n",
       "      <td>350.800000</td>\n",
       "      <td>363.700000</td>\n",
       "      <td>395.000000</td>\n",
       "      <td>20.000000</td>\n",
       "      <td>9.000000</td>\n",
       "      <td>165.000000</td>\n",
       "      <td>59.640000</td>\n",
       "      <td>170.000000</td>\n",
       "      <td>30.910000</td>\n",
       "      <td>175.000000</td>\n",
       "      <td>17.770000</td>\n",
       "      <td>20.000000</td>\n",
       "      <td>5.400000</td>\n",
       "      <td>510.000000</td>\n",
       "    </tr>\n",
       "  </tbody>\n",
       "</table>\n",
       "</div>"
      ],
      "text/plain": [
       "       Account_Length  Vmail_Message     Day_Mins     Eve_Mins   Night_Mins  \\\n",
       "count     3333.000000    3333.000000  3333.000000  3333.000000  3333.000000   \n",
       "mean       101.064806       8.099010   179.775098   200.980348   200.872037   \n",
       "std         39.822106      13.688365    54.467389    50.713844    50.573847   \n",
       "min          1.000000       0.000000     0.000000     0.000000    23.200000   \n",
       "25%         74.000000       0.000000   143.700000   166.600000   167.000000   \n",
       "50%        101.000000       0.000000   179.400000   201.400000   201.200000   \n",
       "75%        127.000000      20.000000   216.400000   235.300000   235.300000   \n",
       "max        243.000000      51.000000   350.800000   363.700000   395.000000   \n",
       "\n",
       "         Intl_Mins  CustServ_Calls    Day_Calls   Day_Charge    Eve_Calls  \\\n",
       "count  3333.000000     3333.000000  3333.000000  3333.000000  3333.000000   \n",
       "mean     10.237294        1.562856   100.435644    30.562307   100.114311   \n",
       "std       2.791840        1.315491    20.069084     9.259435    19.922625   \n",
       "min       0.000000        0.000000     0.000000     0.000000     0.000000   \n",
       "25%       8.500000        1.000000    87.000000    24.430000    87.000000   \n",
       "50%      10.300000        1.000000   101.000000    30.500000   100.000000   \n",
       "75%      12.100000        2.000000   114.000000    36.790000   114.000000   \n",
       "max      20.000000        9.000000   165.000000    59.640000   170.000000   \n",
       "\n",
       "        Eve_Charge  Night_Calls  Night_Charge   Intl_Calls  Intl_Charge  \\\n",
       "count  3333.000000  3333.000000   3333.000000  3333.000000  3333.000000   \n",
       "mean     17.083540   100.107711      9.039325     4.479448     2.764581   \n",
       "std       4.310668    19.568609      2.275873     2.461214     0.753773   \n",
       "min       0.000000    33.000000      1.040000     0.000000     0.000000   \n",
       "25%      14.160000    87.000000      7.520000     3.000000     2.300000   \n",
       "50%      17.120000   100.000000      9.050000     4.000000     2.780000   \n",
       "75%      20.000000   113.000000     10.590000     6.000000     3.270000   \n",
       "max      30.910000   175.000000     17.770000    20.000000     5.400000   \n",
       "\n",
       "         Area_Code  \n",
       "count  3333.000000  \n",
       "mean    437.182418  \n",
       "std      42.371290  \n",
       "min     408.000000  \n",
       "25%     408.000000  \n",
       "50%     415.000000  \n",
       "75%     510.000000  \n",
       "max     510.000000  "
      ]
     },
     "execution_count": 166,
     "metadata": {},
     "output_type": "execute_result"
    }
   ],
   "source": [
    " telco.describe() "
   ]
  },
  {
   "cell_type": "code",
   "execution_count": 167,
   "id": "37a36b51",
   "metadata": {},
   "outputs": [
    {
     "data": {
      "text/plain": [
       "no     2850\n",
       "yes     483\n",
       "Name: Churn, dtype: int64"
      ]
     },
     "execution_count": 167,
     "metadata": {},
     "output_type": "execute_result"
    }
   ],
   "source": [
    " # How many churners does the dataset have, and how many non-churners?\n",
    "telco['Churn'].value_counts()"
   ]
  },
  {
   "cell_type": "code",
   "execution_count": 168,
   "id": "570b16f6",
   "metadata": {},
   "outputs": [
    {
     "name": "stdout",
     "output_type": "stream",
     "text": [
      "       Account_Length  Vmail_Message    Day_Mins    Eve_Mins  Night_Mins  \\\n",
      "Churn                                                                      \n",
      "no         100.793684       8.604561  175.175754  199.043298  200.133193   \n",
      "yes        102.664596       5.115942  206.914079  212.410145  205.231677   \n",
      "\n",
      "       Intl_Mins  CustServ_Calls   Day_Calls  Day_Charge   Eve_Calls  \\\n",
      "Churn                                                                  \n",
      "no     10.158877        1.449825  100.283158   29.780421  100.038596   \n",
      "yes    10.700000        2.229814  101.335404   35.175921  100.561077   \n",
      "\n",
      "       Eve_Charge  Night_Calls  Night_Charge  Intl_Calls  Intl_Charge  \\\n",
      "Churn                                                                   \n",
      "no      16.918909   100.058246      9.006074    4.532982     2.743404   \n",
      "yes     18.054969   100.399586      9.235528    4.163561     2.889545   \n",
      "\n",
      "        Area_Code  \n",
      "Churn              \n",
      "no     437.074737  \n",
      "yes    437.817805  \n"
     ]
    }
   ],
   "source": [
    "print(telco.groupby(['Churn']).mean()) "
   ]
  },
  {
   "cell_type": "markdown",
   "id": "b08c689e",
   "metadata": {},
   "source": [
    "Churners seem to make more customer service calls than non-churners. (CustServ_Calls)"
   ]
  },
  {
   "cell_type": "code",
   "execution_count": 169,
   "id": "8f185710",
   "metadata": {},
   "outputs": [
    {
     "name": "stdout",
     "output_type": "stream",
     "text": [
      "       Account_Length  Vmail_Message   Day_Mins   Eve_Mins  Night_Mins  \\\n",
      "Churn                                                                    \n",
      "no           39.88235      13.913125  50.181655  50.292175   51.105032   \n",
      "yes          39.46782      11.860138  68.997792  51.728910   47.132825   \n",
      "\n",
      "       Intl_Mins  CustServ_Calls  Day_Calls  Day_Charge  Eve_Calls  \\\n",
      "Churn                                                                \n",
      "no      2.784489        1.163883  19.801157    8.530835  19.958414   \n",
      "yes     2.793190        1.853275  21.582307   11.729710  19.724711   \n",
      "\n",
      "       Eve_Charge  Night_Calls  Night_Charge  Intl_Calls  Intl_Charge  \\\n",
      "Churn                                                                   \n",
      "no       4.274863    19.506246      2.299768    2.441984     0.751784   \n",
      "yes      4.396762    19.950659      2.121081    2.551575     0.754152   \n",
      "\n",
      "       Area_Code  \n",
      "Churn             \n",
      "no     42.306156  \n",
      "yes    42.792270  \n"
     ]
    }
   ],
   "source": [
    "print(telco.groupby(['Churn']).std())"
   ]
  },
  {
   "cell_type": "code",
   "execution_count": 170,
   "id": "e545c833",
   "metadata": {},
   "outputs": [],
   "source": [
    "# Count the number of churners and non-churners by State\n",
    "churn_by_st = pd.crosstab(telco.State, telco.Churn, normalize=False)"
   ]
  },
  {
   "cell_type": "code",
   "execution_count": 171,
   "id": "7a308a21",
   "metadata": {
    "scrolled": true
   },
   "outputs": [],
   "source": [
    "churn_by_st['percentage'] = churn_by_st['yes']*100 / (churn_by_st['yes'] + churn_by_st['no'])"
   ]
  },
  {
   "cell_type": "code",
   "execution_count": 172,
   "id": "892de571",
   "metadata": {},
   "outputs": [
    {
     "data": {
      "text/html": [
       "<div>\n",
       "<style scoped>\n",
       "    .dataframe tbody tr th:only-of-type {\n",
       "        vertical-align: middle;\n",
       "    }\n",
       "\n",
       "    .dataframe tbody tr th {\n",
       "        vertical-align: top;\n",
       "    }\n",
       "\n",
       "    .dataframe thead th {\n",
       "        text-align: right;\n",
       "    }\n",
       "</style>\n",
       "<table border=\"1\" class=\"dataframe\">\n",
       "  <thead>\n",
       "    <tr style=\"text-align: right;\">\n",
       "      <th>Churn</th>\n",
       "      <th>no</th>\n",
       "      <th>yes</th>\n",
       "      <th>percentage</th>\n",
       "    </tr>\n",
       "    <tr>\n",
       "      <th>State</th>\n",
       "      <th></th>\n",
       "      <th></th>\n",
       "      <th></th>\n",
       "    </tr>\n",
       "  </thead>\n",
       "  <tbody>\n",
       "    <tr>\n",
       "      <th>NJ</th>\n",
       "      <td>50</td>\n",
       "      <td>18</td>\n",
       "      <td>26.470588</td>\n",
       "    </tr>\n",
       "    <tr>\n",
       "      <th>CA</th>\n",
       "      <td>25</td>\n",
       "      <td>9</td>\n",
       "      <td>26.470588</td>\n",
       "    </tr>\n",
       "    <tr>\n",
       "      <th>TX</th>\n",
       "      <td>54</td>\n",
       "      <td>18</td>\n",
       "      <td>25.000000</td>\n",
       "    </tr>\n",
       "    <tr>\n",
       "      <th>MD</th>\n",
       "      <td>53</td>\n",
       "      <td>17</td>\n",
       "      <td>24.285714</td>\n",
       "    </tr>\n",
       "    <tr>\n",
       "      <th>SC</th>\n",
       "      <td>46</td>\n",
       "      <td>14</td>\n",
       "      <td>23.333333</td>\n",
       "    </tr>\n",
       "    <tr>\n",
       "      <th>MI</th>\n",
       "      <td>57</td>\n",
       "      <td>16</td>\n",
       "      <td>21.917808</td>\n",
       "    </tr>\n",
       "    <tr>\n",
       "      <th>MS</th>\n",
       "      <td>51</td>\n",
       "      <td>14</td>\n",
       "      <td>21.538462</td>\n",
       "    </tr>\n",
       "    <tr>\n",
       "      <th>NV</th>\n",
       "      <td>52</td>\n",
       "      <td>14</td>\n",
       "      <td>21.212121</td>\n",
       "    </tr>\n",
       "    <tr>\n",
       "      <th>WA</th>\n",
       "      <td>52</td>\n",
       "      <td>14</td>\n",
       "      <td>21.212121</td>\n",
       "    </tr>\n",
       "    <tr>\n",
       "      <th>ME</th>\n",
       "      <td>49</td>\n",
       "      <td>13</td>\n",
       "      <td>20.967742</td>\n",
       "    </tr>\n",
       "    <tr>\n",
       "      <th>MT</th>\n",
       "      <td>54</td>\n",
       "      <td>14</td>\n",
       "      <td>20.588235</td>\n",
       "    </tr>\n",
       "    <tr>\n",
       "      <th>AR</th>\n",
       "      <td>44</td>\n",
       "      <td>11</td>\n",
       "      <td>20.000000</td>\n",
       "    </tr>\n",
       "    <tr>\n",
       "      <th>KS</th>\n",
       "      <td>57</td>\n",
       "      <td>13</td>\n",
       "      <td>18.571429</td>\n",
       "    </tr>\n",
       "    <tr>\n",
       "      <th>NY</th>\n",
       "      <td>68</td>\n",
       "      <td>15</td>\n",
       "      <td>18.072289</td>\n",
       "    </tr>\n",
       "    <tr>\n",
       "      <th>MN</th>\n",
       "      <td>69</td>\n",
       "      <td>15</td>\n",
       "      <td>17.857143</td>\n",
       "    </tr>\n",
       "    <tr>\n",
       "      <th>PA</th>\n",
       "      <td>37</td>\n",
       "      <td>8</td>\n",
       "      <td>17.777778</td>\n",
       "    </tr>\n",
       "    <tr>\n",
       "      <th>MA</th>\n",
       "      <td>54</td>\n",
       "      <td>11</td>\n",
       "      <td>16.923077</td>\n",
       "    </tr>\n",
       "    <tr>\n",
       "      <th>CT</th>\n",
       "      <td>62</td>\n",
       "      <td>12</td>\n",
       "      <td>16.216216</td>\n",
       "    </tr>\n",
       "    <tr>\n",
       "      <th>NC</th>\n",
       "      <td>57</td>\n",
       "      <td>11</td>\n",
       "      <td>16.176471</td>\n",
       "    </tr>\n",
       "    <tr>\n",
       "      <th>NH</th>\n",
       "      <td>47</td>\n",
       "      <td>9</td>\n",
       "      <td>16.071429</td>\n",
       "    </tr>\n",
       "    <tr>\n",
       "      <th>GA</th>\n",
       "      <td>46</td>\n",
       "      <td>8</td>\n",
       "      <td>14.814815</td>\n",
       "    </tr>\n",
       "    <tr>\n",
       "      <th>DE</th>\n",
       "      <td>52</td>\n",
       "      <td>9</td>\n",
       "      <td>14.754098</td>\n",
       "    </tr>\n",
       "    <tr>\n",
       "      <th>OK</th>\n",
       "      <td>52</td>\n",
       "      <td>9</td>\n",
       "      <td>14.754098</td>\n",
       "    </tr>\n",
       "    <tr>\n",
       "      <th>OR</th>\n",
       "      <td>67</td>\n",
       "      <td>11</td>\n",
       "      <td>14.102564</td>\n",
       "    </tr>\n",
       "    <tr>\n",
       "      <th>UT</th>\n",
       "      <td>62</td>\n",
       "      <td>10</td>\n",
       "      <td>13.888889</td>\n",
       "    </tr>\n",
       "    <tr>\n",
       "      <th>CO</th>\n",
       "      <td>57</td>\n",
       "      <td>9</td>\n",
       "      <td>13.636364</td>\n",
       "    </tr>\n",
       "    <tr>\n",
       "      <th>KY</th>\n",
       "      <td>51</td>\n",
       "      <td>8</td>\n",
       "      <td>13.559322</td>\n",
       "    </tr>\n",
       "    <tr>\n",
       "      <th>SD</th>\n",
       "      <td>52</td>\n",
       "      <td>8</td>\n",
       "      <td>13.333333</td>\n",
       "    </tr>\n",
       "    <tr>\n",
       "      <th>OH</th>\n",
       "      <td>68</td>\n",
       "      <td>10</td>\n",
       "      <td>12.820513</td>\n",
       "    </tr>\n",
       "    <tr>\n",
       "      <th>FL</th>\n",
       "      <td>55</td>\n",
       "      <td>8</td>\n",
       "      <td>12.698413</td>\n",
       "    </tr>\n",
       "    <tr>\n",
       "      <th>IN</th>\n",
       "      <td>62</td>\n",
       "      <td>9</td>\n",
       "      <td>12.676056</td>\n",
       "    </tr>\n",
       "    <tr>\n",
       "      <th>ID</th>\n",
       "      <td>64</td>\n",
       "      <td>9</td>\n",
       "      <td>12.328767</td>\n",
       "    </tr>\n",
       "    <tr>\n",
       "      <th>WY</th>\n",
       "      <td>68</td>\n",
       "      <td>9</td>\n",
       "      <td>11.688312</td>\n",
       "    </tr>\n",
       "    <tr>\n",
       "      <th>MO</th>\n",
       "      <td>56</td>\n",
       "      <td>7</td>\n",
       "      <td>11.111111</td>\n",
       "    </tr>\n",
       "    <tr>\n",
       "      <th>VT</th>\n",
       "      <td>65</td>\n",
       "      <td>8</td>\n",
       "      <td>10.958904</td>\n",
       "    </tr>\n",
       "    <tr>\n",
       "      <th>AL</th>\n",
       "      <td>72</td>\n",
       "      <td>8</td>\n",
       "      <td>10.000000</td>\n",
       "    </tr>\n",
       "    <tr>\n",
       "      <th>NM</th>\n",
       "      <td>56</td>\n",
       "      <td>6</td>\n",
       "      <td>9.677419</td>\n",
       "    </tr>\n",
       "    <tr>\n",
       "      <th>ND</th>\n",
       "      <td>56</td>\n",
       "      <td>6</td>\n",
       "      <td>9.677419</td>\n",
       "    </tr>\n",
       "    <tr>\n",
       "      <th>WV</th>\n",
       "      <td>96</td>\n",
       "      <td>10</td>\n",
       "      <td>9.433962</td>\n",
       "    </tr>\n",
       "    <tr>\n",
       "      <th>TN</th>\n",
       "      <td>48</td>\n",
       "      <td>5</td>\n",
       "      <td>9.433962</td>\n",
       "    </tr>\n",
       "    <tr>\n",
       "      <th>DC</th>\n",
       "      <td>49</td>\n",
       "      <td>5</td>\n",
       "      <td>9.259259</td>\n",
       "    </tr>\n",
       "    <tr>\n",
       "      <th>RI</th>\n",
       "      <td>59</td>\n",
       "      <td>6</td>\n",
       "      <td>9.230769</td>\n",
       "    </tr>\n",
       "    <tr>\n",
       "      <th>WI</th>\n",
       "      <td>71</td>\n",
       "      <td>7</td>\n",
       "      <td>8.974359</td>\n",
       "    </tr>\n",
       "    <tr>\n",
       "      <th>IL</th>\n",
       "      <td>53</td>\n",
       "      <td>5</td>\n",
       "      <td>8.620690</td>\n",
       "    </tr>\n",
       "    <tr>\n",
       "      <th>NE</th>\n",
       "      <td>56</td>\n",
       "      <td>5</td>\n",
       "      <td>8.196721</td>\n",
       "    </tr>\n",
       "    <tr>\n",
       "      <th>LA</th>\n",
       "      <td>47</td>\n",
       "      <td>4</td>\n",
       "      <td>7.843137</td>\n",
       "    </tr>\n",
       "    <tr>\n",
       "      <th>IA</th>\n",
       "      <td>41</td>\n",
       "      <td>3</td>\n",
       "      <td>6.818182</td>\n",
       "    </tr>\n",
       "    <tr>\n",
       "      <th>VA</th>\n",
       "      <td>72</td>\n",
       "      <td>5</td>\n",
       "      <td>6.493506</td>\n",
       "    </tr>\n",
       "    <tr>\n",
       "      <th>AZ</th>\n",
       "      <td>60</td>\n",
       "      <td>4</td>\n",
       "      <td>6.250000</td>\n",
       "    </tr>\n",
       "    <tr>\n",
       "      <th>AK</th>\n",
       "      <td>49</td>\n",
       "      <td>3</td>\n",
       "      <td>5.769231</td>\n",
       "    </tr>\n",
       "    <tr>\n",
       "      <th>HI</th>\n",
       "      <td>50</td>\n",
       "      <td>3</td>\n",
       "      <td>5.660377</td>\n",
       "    </tr>\n",
       "  </tbody>\n",
       "</table>\n",
       "</div>"
      ],
      "text/plain": [
       "Churn  no  yes  percentage\n",
       "State                     \n",
       "NJ     50   18   26.470588\n",
       "CA     25    9   26.470588\n",
       "TX     54   18   25.000000\n",
       "MD     53   17   24.285714\n",
       "SC     46   14   23.333333\n",
       "MI     57   16   21.917808\n",
       "MS     51   14   21.538462\n",
       "NV     52   14   21.212121\n",
       "WA     52   14   21.212121\n",
       "ME     49   13   20.967742\n",
       "MT     54   14   20.588235\n",
       "AR     44   11   20.000000\n",
       "KS     57   13   18.571429\n",
       "NY     68   15   18.072289\n",
       "MN     69   15   17.857143\n",
       "PA     37    8   17.777778\n",
       "MA     54   11   16.923077\n",
       "CT     62   12   16.216216\n",
       "NC     57   11   16.176471\n",
       "NH     47    9   16.071429\n",
       "GA     46    8   14.814815\n",
       "DE     52    9   14.754098\n",
       "OK     52    9   14.754098\n",
       "OR     67   11   14.102564\n",
       "UT     62   10   13.888889\n",
       "CO     57    9   13.636364\n",
       "KY     51    8   13.559322\n",
       "SD     52    8   13.333333\n",
       "OH     68   10   12.820513\n",
       "FL     55    8   12.698413\n",
       "IN     62    9   12.676056\n",
       "ID     64    9   12.328767\n",
       "WY     68    9   11.688312\n",
       "MO     56    7   11.111111\n",
       "VT     65    8   10.958904\n",
       "AL     72    8   10.000000\n",
       "NM     56    6    9.677419\n",
       "ND     56    6    9.677419\n",
       "WV     96   10    9.433962\n",
       "TN     48    5    9.433962\n",
       "DC     49    5    9.259259\n",
       "RI     59    6    9.230769\n",
       "WI     71    7    8.974359\n",
       "IL     53    5    8.620690\n",
       "NE     56    5    8.196721\n",
       "LA     47    4    7.843137\n",
       "IA     41    3    6.818182\n",
       "VA     72    5    6.493506\n",
       "AZ     60    4    6.250000\n",
       "AK     49    3    5.769231\n",
       "HI     50    3    5.660377"
      ]
     },
     "execution_count": 172,
     "metadata": {},
     "output_type": "execute_result"
    }
   ],
   "source": [
    "churn_by_st.sort_values(by = 'percentage', ascending=False)"
   ]
  },
  {
   "cell_type": "markdown",
   "id": "4441373e",
   "metadata": {},
   "source": [
    "California, New Jersey and Texas has a higher number (and percentage) of customers who churned."
   ]
  },
  {
   "cell_type": "code",
   "execution_count": 173,
   "id": "b3256218",
   "metadata": {},
   "outputs": [
    {
     "name": "stderr",
     "output_type": "stream",
     "text": [
      "/Library/Frameworks/Python.framework/Versions/3.8/lib/python3.8/site-packages/seaborn/distributions.py:2619: FutureWarning: `distplot` is a deprecated function and will be removed in a future version. Please adapt your code to use either `displot` (a figure-level function with similar flexibility) or `histplot` (an axes-level function for histograms).\n",
      "  warnings.warn(msg, FutureWarning)\n"
     ]
    },
    {
     "data": {
      "text/plain": [
       "<AxesSubplot:xlabel='Account_Length', ylabel='Density'>"
      ]
     },
     "execution_count": 173,
     "metadata": {},
     "output_type": "execute_result"
    },
    {
     "data": {
      "image/png": "[encoded data removed]",
      "text/plain": [
       "<Figure size 432x288 with 1 Axes>"
      ]
     },
     "metadata": {
      "needs_background": "light"
     },
     "output_type": "display_data"
    }
   ],
   "source": [
    "#Visualise the distribution of account lenghts\n",
    "sns.distplot(telco['Account_Length'])"
   ]
  },
  {
   "cell_type": "code",
   "execution_count": 174,
   "id": "dd95565b",
   "metadata": {},
   "outputs": [
    {
     "name": "stdout",
     "output_type": "stream",
     "text": [
      "State  Churn\n",
      "AK     no       49\n",
      "       yes       3\n",
      "AL     no       72\n",
      "       yes       8\n",
      "AR     no       44\n",
      "                ..\n",
      "WI     yes       7\n",
      "WV     no       96\n",
      "       yes      10\n",
      "WY     no       68\n",
      "       yes       9\n",
      "Name: Churn, Length: 102, dtype: int64\n"
     ]
    }
   ],
   "source": [
    "# Count the number of churners and non-churners by State\n",
    "print(telco.groupby('State')['Churn'].value_counts())"
   ]
  },
  {
   "cell_type": "code",
   "execution_count": 175,
   "id": "2ddfca2e",
   "metadata": {
    "scrolled": true
   },
   "outputs": [
    {
     "data": {
      "text/plain": [
       "<AxesSubplot:xlabel='Churn', ylabel='Account_Length'>"
      ]
     },
     "execution_count": 175,
     "metadata": {},
     "output_type": "execute_result"
    },
    {
     "data": {
      "image/png": "[encoded data removed]",
      "text/plain": [
       "<Figure size 432x288 with 1 Axes>"
      ]
     },
     "metadata": {
      "needs_background": "light"
     },
     "output_type": "display_data"
    }
   ],
   "source": [
    "#Visualize the differences in account length between churners and non-churners.\n",
    "sns.boxplot(x ='Churn', \n",
    "            y = 'Account_Length',\n",
    "            data = telco)"
   ]
  },
  {
   "cell_type": "markdown",
   "id": "8542dd49",
   "metadata": {},
   "source": [
    " There doesn't appear to be any noticeable difference in account length."
   ]
  },
  {
   "cell_type": "code",
   "execution_count": 176,
   "id": "08b0de8f",
   "metadata": {
    "scrolled": true
   },
   "outputs": [
    {
     "data": {
      "image/png": "[encoded data removed]",
      "text/plain": [
       "<Figure size 432x288 with 1 Axes>"
      ]
     },
     "metadata": {
      "needs_background": "light"
     },
     "output_type": "display_data"
    }
   ],
   "source": [
    "#Does the International Plan feature have an impact on account length or churn ?\n",
    "# Create the box plot\n",
    "sns.boxplot(x = 'Churn',\n",
    "            y = 'Account_Length',\n",
    "            data = telco,\n",
    "            #remove the outliers\n",
    "            sym = \"\",\n",
    "            hue = 'Intl_Plan') \n",
    "\n",
    "# Display the plot\n",
    "plt.show()"
   ]
  },
  {
   "cell_type": "markdown",
   "id": "7abb35df",
   "metadata": {},
   "source": [
    "There doesn't appear to be any noticeable difference in account length."
   ]
  },
  {
   "cell_type": "code",
   "execution_count": 177,
   "id": "c7e96da3",
   "metadata": {},
   "outputs": [
    {
     "data": {
      "image/png": "[encoded data removed]",
      "text/plain": [
       "<Figure size 720x720 with 4 Axes>"
      ]
     },
     "metadata": {
      "needs_background": "light"
     },
     "output_type": "display_data"
    }
   ],
   "source": [
    "fig = plt.figure(figsize=(10,10))\n",
    "ax1 = fig.add_subplot(2,2,1)\n",
    "ax2 = fig.add_subplot(2,2,2)\n",
    "ax3 = fig.add_subplot(2,2,3)\n",
    "ax4 = fig.add_subplot(2,2,4)\n",
    "\n",
    "axes = {ax1:['Day_Mins',\"Day\"], ax2:['Eve_Mins',\"Eve\"],ax3:['Night_Mins',\"Night\"],ax4:['Intl_Mins',\"Int\"]}\n",
    "\n",
    "\n",
    "for x in axes:\n",
    "    k = axes[x]\n",
    "    freq = k[0]\n",
    "    title = k[1]\n",
    "    sns.histplot(telco[freq],ax = x)"
   ]
  },
  {
   "cell_type": "markdown",
   "id": "29306e35",
   "metadata": {},
   "source": [
    "All of these features appear to be well approximated by the normal distribution. If this were not the case, we would have to consider applying a feature transformation of some kind.\n",
    "\n",
    "There's not much of a difference in account lengths between churners and non-churners, but that there is a difference in the number of customer service calls left by churners.\n",
    "\n",
    "Do customers who have international plans make more customer service calls? \n",
    "Or do they tend to churn more? How about voicemail plans? "
   ]
  },
  {
   "cell_type": "code",
   "execution_count": 178,
   "id": "3dacf619",
   "metadata": {
    "scrolled": true
   },
   "outputs": [
    {
     "data": {
      "image/png": "[encoded data removed]",
      "text/plain": [
       "<Figure size 432x288 with 1 Axes>"
      ]
     },
     "metadata": {
      "needs_background": "light"
     },
     "output_type": "display_data"
    }
   ],
   "source": [
    "#Does having a voice mail plan affect the number of customer service calls or churn?\n",
    "\n",
    "# Create the box plot\n",
    "sns.boxplot(x = 'Churn',\n",
    "            y = 'CustServ_Calls',\n",
    "            data = telco,\n",
    "            #remove the outliers\n",
    "            sym = \"\",\n",
    "            hue = 'Vmail_Plan') \n",
    "\n",
    "# Display the plot\n",
    "plt.show()"
   ]
  },
  {
   "cell_type": "markdown",
   "id": "3cb9ace5",
   "metadata": {},
   "source": [
    "There isn't much difference."
   ]
  },
  {
   "cell_type": "code",
   "execution_count": 179,
   "id": "ad3ef507",
   "metadata": {},
   "outputs": [
    {
     "data": {
      "image/png": "[encoded data removed]",
      "text/plain": [
       "<Figure size 432x288 with 1 Axes>"
      ]
     },
     "metadata": {
      "needs_background": "light"
     },
     "output_type": "display_data"
    }
   ],
   "source": [
    "#Does having an international plan affect the number of customer service calls or churn?\n",
    "# Create the box plot\n",
    "sns.boxplot(x = 'Churn',\n",
    "            y = 'CustServ_Calls',\n",
    "            data = telco,\n",
    "            #remove the outliers\n",
    "            sym = \"\",\n",
    "            hue = 'Intl_Plan') \n",
    "\n",
    "# Display the plot\n",
    "plt.show()"
   ]
  },
  {
   "cell_type": "markdown",
   "id": "bbd6eb0a",
   "metadata": {},
   "source": [
    "Customers who do churn end up leaving more customer service calls, unless these customers also have an international plan, in which case they leave fewer customer service calls."
   ]
  },
  {
   "cell_type": "markdown",
   "id": "cda9188c",
   "metadata": {},
   "source": [
    "## Data Preprocessing"
   ]
  },
  {
   "cell_type": "code",
   "execution_count": 182,
   "id": "3512d9f9",
   "metadata": {
    "scrolled": true
   },
   "outputs": [
    {
     "name": "stdout",
     "output_type": "stream",
     "text": [
      "Account_Length      int64\n",
      "Vmail_Message       int64\n",
      "Day_Mins          float64\n",
      "Eve_Mins          float64\n",
      "Night_Mins        float64\n",
      "Intl_Mins         float64\n",
      "CustServ_Calls      int64\n",
      "Churn              object\n",
      "Intl_Plan          object\n",
      "Vmail_Plan         object\n",
      "Day_Calls           int64\n",
      "Day_Charge        float64\n",
      "Eve_Calls           int64\n",
      "Eve_Charge        float64\n",
      "Night_Calls         int64\n",
      "Night_Charge      float64\n",
      "Intl_Calls          int64\n",
      "Intl_Charge       float64\n",
      "State              object\n",
      "Area_Code           int64\n",
      "Phone              object\n",
      "dtype: object\n",
      "Account_Length     212\n",
      "Vmail_Message       46\n",
      "Day_Mins          1667\n",
      "Eve_Mins          1611\n",
      "Night_Mins        1591\n",
      "Intl_Mins          162\n",
      "CustServ_Calls      10\n",
      "Churn                2\n",
      "Intl_Plan            2\n",
      "Vmail_Plan           2\n",
      "Day_Calls          119\n",
      "Day_Charge        1667\n",
      "Eve_Calls          123\n",
      "Eve_Charge        1440\n",
      "Night_Calls        120\n",
      "Night_Charge       933\n",
      "Intl_Calls          21\n",
      "Intl_Charge        162\n",
      "State               51\n",
      "Area_Code            3\n",
      "Phone             3333\n",
      "dtype: int64\n"
     ]
    }
   ],
   "source": [
    "print(telco.dtypes)\n",
    "\n",
    "# Print the number of unique values in each telco column\n",
    "print(telco.nunique())"
   ]
  },
  {
   "cell_type": "markdown",
   "id": "a71f32f7",
   "metadata": {},
   "source": [
    "#### Separate numerical and categorical columns"
   ]
  },
  {
   "cell_type": "code",
   "execution_count": 183,
   "id": "d5dff59f",
   "metadata": {},
   "outputs": [],
   "source": [
    "# Store Phone and Churn column names\n",
    "phone = ['Phone']\n",
    "target = ['Churn']\n",
    "unnecessary = ['Area_Code', 'State']\n",
    "\n",
    "# Store categorical column names\n",
    "categorical = telco.nunique()[telco.nunique() < 5].keys().tolist()\n",
    "\n",
    "# Remove target from the list of categorical variables\n",
    "categorical.remove(target[0])\n",
    "categorical.remove('Area_Code')\n",
    "\n",
    "# Store numerical column names\n",
    "numerical = [x for x in telco.columns if x not in phone + target + categorical + unnecessary]"
   ]
  },
  {
   "cell_type": "code",
   "execution_count": 184,
   "id": "0a1d253d",
   "metadata": {
    "scrolled": false
   },
   "outputs": [
    {
     "name": "stdout",
     "output_type": "stream",
     "text": [
      "['Intl_Plan', 'Vmail_Plan']\n",
      "\n",
      "\n",
      "['Account_Length', 'Vmail_Message', 'Day_Mins', 'Eve_Mins', 'Night_Mins', 'Intl_Mins', 'CustServ_Calls', 'Day_Calls', 'Day_Charge', 'Eve_Calls', 'Eve_Charge', 'Night_Calls', 'Night_Charge', 'Intl_Calls', 'Intl_Charge']\n"
     ]
    }
   ],
   "source": [
    "print(categorical)\n",
    "print('\\n')\n",
    "print(numerical)"
   ]
  },
  {
   "cell_type": "markdown",
   "id": "b3ac5a94",
   "metadata": {},
   "source": [
    "#### One hot encoding"
   ]
  },
  {
   "cell_type": "code",
   "execution_count": 185,
   "id": "f83ccf47",
   "metadata": {},
   "outputs": [],
   "source": [
    "# Perform one-hot encoding to categorical variables \n",
    "telco = pd.get_dummies(data = telco, columns = categorical, drop_first=True)"
   ]
  },
  {
   "cell_type": "code",
   "execution_count": 186,
   "id": "31eb9147",
   "metadata": {},
   "outputs": [],
   "source": [
    "telco = telco.rename(columns = {'Intl_Plan_yes' : 'Intl_Plan', 'Vmail_Plan_yes' : 'Vmail_Plan'})"
   ]
  },
  {
   "cell_type": "code",
   "execution_count": 187,
   "id": "446b3879",
   "metadata": {},
   "outputs": [],
   "source": [
    "telco['Churn'] = telco['Churn'].replace({'yes': 1, 'no': 0})"
   ]
  },
  {
   "cell_type": "code",
   "execution_count": 188,
   "id": "76482e0d",
   "metadata": {},
   "outputs": [
    {
     "data": {
      "text/plain": [
       "0       0\n",
       "1       0\n",
       "2       0\n",
       "3       0\n",
       "4       0\n",
       "       ..\n",
       "3328    0\n",
       "3329    0\n",
       "3330    0\n",
       "3331    0\n",
       "3332    0\n",
       "Name: Churn, Length: 3333, dtype: int64"
      ]
     },
     "execution_count": 188,
     "metadata": {},
     "output_type": "execute_result"
    }
   ],
   "source": [
    "telco['Churn']"
   ]
  },
  {
   "cell_type": "markdown",
   "id": "7a70f11f",
   "metadata": {},
   "source": [
    "##### Scaling numerical features"
   ]
  },
  {
   "cell_type": "code",
   "execution_count": 189,
   "id": "5cfd968e",
   "metadata": {},
   "outputs": [],
   "source": [
    "# Initialize StandardScaler instance\n",
    "scaler = StandardScaler()\n",
    "\n",
    "# Fit and transform the scaler on numerical columns\n",
    "scaled_numerical = scaler.fit_transform(telco[numerical])\n",
    "\n",
    "# Build a DataFrame from scaled_numerical\n",
    "scaled_numerical = pd.DataFrame(scaled_numerical, columns=numerical)"
   ]
  },
  {
   "cell_type": "code",
   "execution_count": 145,
   "id": "62f59606",
   "metadata": {
    "scrolled": true
   },
   "outputs": [
    {
     "data": {
      "text/html": [
       "<div>\n",
       "<style scoped>\n",
       "    .dataframe tbody tr th:only-of-type {\n",
       "        vertical-align: middle;\n",
       "    }\n",
       "\n",
       "    .dataframe tbody tr th {\n",
       "        vertical-align: top;\n",
       "    }\n",
       "\n",
       "    .dataframe thead th {\n",
       "        text-align: right;\n",
       "    }\n",
       "</style>\n",
       "<table border=\"1\" class=\"dataframe\">\n",
       "  <thead>\n",
       "    <tr style=\"text-align: right;\">\n",
       "      <th></th>\n",
       "      <th>Account_Length</th>\n",
       "      <th>Vmail_Message</th>\n",
       "      <th>Day_Mins</th>\n",
       "      <th>Eve_Mins</th>\n",
       "      <th>Night_Mins</th>\n",
       "      <th>Intl_Mins</th>\n",
       "      <th>CustServ_Calls</th>\n",
       "      <th>Day_Calls</th>\n",
       "      <th>Day_Charge</th>\n",
       "      <th>Eve_Calls</th>\n",
       "      <th>Eve_Charge</th>\n",
       "      <th>Night_Calls</th>\n",
       "      <th>Night_Charge</th>\n",
       "      <th>Intl_Calls</th>\n",
       "      <th>Intl_Charge</th>\n",
       "    </tr>\n",
       "  </thead>\n",
       "  <tbody>\n",
       "    <tr>\n",
       "      <th>0</th>\n",
       "      <td>0.676489</td>\n",
       "      <td>1.234883</td>\n",
       "      <td>1.566767</td>\n",
       "      <td>-0.070610</td>\n",
       "      <td>0.866743</td>\n",
       "      <td>-0.085008</td>\n",
       "      <td>-0.427932</td>\n",
       "      <td>0.476643</td>\n",
       "      <td>1.567036</td>\n",
       "      <td>-0.055940</td>\n",
       "      <td>-0.070427</td>\n",
       "      <td>-0.465494</td>\n",
       "      <td>0.866029</td>\n",
       "      <td>-0.601195</td>\n",
       "      <td>-0.085690</td>\n",
       "    </tr>\n",
       "    <tr>\n",
       "      <th>1</th>\n",
       "      <td>0.149065</td>\n",
       "      <td>1.307948</td>\n",
       "      <td>-0.333738</td>\n",
       "      <td>-0.108080</td>\n",
       "      <td>1.058571</td>\n",
       "      <td>1.240482</td>\n",
       "      <td>-0.427932</td>\n",
       "      <td>1.124503</td>\n",
       "      <td>-0.334013</td>\n",
       "      <td>0.144867</td>\n",
       "      <td>-0.107549</td>\n",
       "      <td>0.147825</td>\n",
       "      <td>1.059390</td>\n",
       "      <td>-0.601195</td>\n",
       "      <td>1.241169</td>\n",
       "    </tr>\n",
       "    <tr>\n",
       "      <th>2</th>\n",
       "      <td>0.902529</td>\n",
       "      <td>-0.591760</td>\n",
       "      <td>1.168304</td>\n",
       "      <td>-1.573383</td>\n",
       "      <td>-0.756869</td>\n",
       "      <td>0.703121</td>\n",
       "      <td>-1.188218</td>\n",
       "      <td>0.675985</td>\n",
       "      <td>1.168464</td>\n",
       "      <td>0.496279</td>\n",
       "      <td>-1.573900</td>\n",
       "      <td>0.198935</td>\n",
       "      <td>-0.755571</td>\n",
       "      <td>0.211534</td>\n",
       "      <td>0.697156</td>\n",
       "    </tr>\n",
       "    <tr>\n",
       "      <th>3</th>\n",
       "      <td>-0.428590</td>\n",
       "      <td>-0.591760</td>\n",
       "      <td>2.196596</td>\n",
       "      <td>-2.742865</td>\n",
       "      <td>-0.078551</td>\n",
       "      <td>-1.303026</td>\n",
       "      <td>0.332354</td>\n",
       "      <td>-1.466936</td>\n",
       "      <td>2.196759</td>\n",
       "      <td>-0.608159</td>\n",
       "      <td>-2.743268</td>\n",
       "      <td>-0.567714</td>\n",
       "      <td>-0.078806</td>\n",
       "      <td>1.024263</td>\n",
       "      <td>-1.306401</td>\n",
       "    </tr>\n",
       "    <tr>\n",
       "      <th>4</th>\n",
       "      <td>-0.654629</td>\n",
       "      <td>-0.591760</td>\n",
       "      <td>-0.240090</td>\n",
       "      <td>-1.038932</td>\n",
       "      <td>-0.276311</td>\n",
       "      <td>-0.049184</td>\n",
       "      <td>1.092641</td>\n",
       "      <td>0.626149</td>\n",
       "      <td>-0.240041</td>\n",
       "      <td>1.098699</td>\n",
       "      <td>-1.037939</td>\n",
       "      <td>1.067803</td>\n",
       "      <td>-0.276562</td>\n",
       "      <td>-0.601195</td>\n",
       "      <td>-0.045885</td>\n",
       "    </tr>\n",
       "  </tbody>\n",
       "</table>\n",
       "</div>"
      ],
      "text/plain": [
       "   Account_Length  Vmail_Message  Day_Mins  Eve_Mins  Night_Mins  Intl_Mins  \\\n",
       "0        0.676489       1.234883  1.566767 -0.070610    0.866743  -0.085008   \n",
       "1        0.149065       1.307948 -0.333738 -0.108080    1.058571   1.240482   \n",
       "2        0.902529      -0.591760  1.168304 -1.573383   -0.756869   0.703121   \n",
       "3       -0.428590      -0.591760  2.196596 -2.742865   -0.078551  -1.303026   \n",
       "4       -0.654629      -0.591760 -0.240090 -1.038932   -0.276311  -0.049184   \n",
       "\n",
       "   CustServ_Calls  Day_Calls  Day_Charge  Eve_Calls  Eve_Charge  Night_Calls  \\\n",
       "0       -0.427932   0.476643    1.567036  -0.055940   -0.070427    -0.465494   \n",
       "1       -0.427932   1.124503   -0.334013   0.144867   -0.107549     0.147825   \n",
       "2       -1.188218   0.675985    1.168464   0.496279   -1.573900     0.198935   \n",
       "3        0.332354  -1.466936    2.196759  -0.608159   -2.743268    -0.567714   \n",
       "4        1.092641   0.626149   -0.240041   1.098699   -1.037939     1.067803   \n",
       "\n",
       "   Night_Charge  Intl_Calls  Intl_Charge  \n",
       "0      0.866029   -0.601195    -0.085690  \n",
       "1      1.059390   -0.601195     1.241169  \n",
       "2     -0.755571    0.211534     0.697156  \n",
       "3     -0.078806    1.024263    -1.306401  \n",
       "4     -0.276562   -0.601195    -0.045885  "
      ]
     },
     "execution_count": 145,
     "metadata": {},
     "output_type": "execute_result"
    }
   ],
   "source": [
    "scaled_numerical.head()"
   ]
  },
  {
   "cell_type": "code",
   "execution_count": 190,
   "id": "991d55a3",
   "metadata": {},
   "outputs": [],
   "source": [
    "telco = telco.drop(columns=numerical, axis = 1)"
   ]
  },
  {
   "cell_type": "code",
   "execution_count": 191,
   "id": "957e2fe2",
   "metadata": {},
   "outputs": [],
   "source": [
    "telco = telco.merge(right = scaled_numerical, \n",
    "            how = 'left',\n",
    "            left_index = True,\n",
    "            right_index = True\n",
    "           )"
   ]
  },
  {
   "cell_type": "markdown",
   "id": "dd72d4af",
   "metadata": {},
   "source": [
    "## Feature selection & Feature Engineering"
   ]
  },
  {
   "cell_type": "code",
   "execution_count": 192,
   "id": "4e5621bf",
   "metadata": {},
   "outputs": [
    {
     "name": "stdout",
     "output_type": "stream",
     "text": [
      "<class 'pandas.core.frame.DataFrame'>\n",
      "RangeIndex: 3333 entries, 0 to 3332\n",
      "Data columns (total 21 columns):\n",
      " #   Column          Non-Null Count  Dtype  \n",
      "---  ------          --------------  -----  \n",
      " 0   Churn           3333 non-null   int64  \n",
      " 1   State           3333 non-null   object \n",
      " 2   Area_Code       3333 non-null   int64  \n",
      " 3   Phone           3333 non-null   object \n",
      " 4   Intl_Plan       3333 non-null   uint8  \n",
      " 5   Vmail_Plan      3333 non-null   uint8  \n",
      " 6   Account_Length  3333 non-null   float64\n",
      " 7   Vmail_Message   3333 non-null   float64\n",
      " 8   Day_Mins        3333 non-null   float64\n",
      " 9   Eve_Mins        3333 non-null   float64\n",
      " 10  Night_Mins      3333 non-null   float64\n",
      " 11  Intl_Mins       3333 non-null   float64\n",
      " 12  CustServ_Calls  3333 non-null   float64\n",
      " 13  Day_Calls       3333 non-null   float64\n",
      " 14  Day_Charge      3333 non-null   float64\n",
      " 15  Eve_Calls       3333 non-null   float64\n",
      " 16  Eve_Charge      3333 non-null   float64\n",
      " 17  Night_Calls     3333 non-null   float64\n",
      " 18  Night_Charge    3333 non-null   float64\n",
      " 19  Intl_Calls      3333 non-null   float64\n",
      " 20  Intl_Charge     3333 non-null   float64\n",
      "dtypes: float64(15), int64(2), object(2), uint8(2)\n",
      "memory usage: 501.4+ KB\n"
     ]
    }
   ],
   "source": [
    "telco.info() "
   ]
  },
  {
   "cell_type": "code",
   "execution_count": 193,
   "id": "bfa1804b",
   "metadata": {
    "scrolled": true
   },
   "outputs": [],
   "source": [
    "#Drop the unnecessary features\n",
    "#Drop the unique identifiers\n",
    "telco = telco.drop(['Area_Code', 'Phone', 'State'], axis = 1)"
   ]
  },
  {
   "cell_type": "code",
   "execution_count": 194,
   "id": "c7cc52d5",
   "metadata": {},
   "outputs": [
    {
     "data": {
      "text/plain": [
       "Index(['Churn', 'Intl_Plan', 'Vmail_Plan', 'Account_Length', 'Vmail_Message',\n",
       "       'Day_Mins', 'Eve_Mins', 'Night_Mins', 'Intl_Mins', 'CustServ_Calls',\n",
       "       'Day_Calls', 'Day_Charge', 'Eve_Calls', 'Eve_Charge', 'Night_Calls',\n",
       "       'Night_Charge', 'Intl_Calls', 'Intl_Charge'],\n",
       "      dtype='object')"
      ]
     },
     "execution_count": 194,
     "metadata": {},
     "output_type": "execute_result"
    }
   ],
   "source": [
    "telco.columns"
   ]
  },
  {
   "cell_type": "markdown",
   "id": "3666b950",
   "metadata": {},
   "source": [
    "## Modeling\n",
    "\n",
    "We'll predict the customer churn.\n",
    "Supervised machine learning with historical data"
   ]
  },
  {
   "cell_type": "code",
   "execution_count": 195,
   "id": "eaa1ed8d",
   "metadata": {},
   "outputs": [],
   "source": [
    "features = telco.columns.tolist()\n",
    "features.remove('Churn')"
   ]
  },
  {
   "cell_type": "code",
   "execution_count": 196,
   "id": "5afa0e8a",
   "metadata": {},
   "outputs": [
    {
     "data": {
      "text/plain": [
       "['Intl_Plan',\n",
       " 'Vmail_Plan',\n",
       " 'Account_Length',\n",
       " 'Vmail_Message',\n",
       " 'Day_Mins',\n",
       " 'Eve_Mins',\n",
       " 'Night_Mins',\n",
       " 'Intl_Mins',\n",
       " 'CustServ_Calls',\n",
       " 'Day_Calls',\n",
       " 'Day_Charge',\n",
       " 'Eve_Calls',\n",
       " 'Eve_Charge',\n",
       " 'Night_Calls',\n",
       " 'Night_Charge',\n",
       " 'Intl_Calls',\n",
       " 'Intl_Charge']"
      ]
     },
     "execution_count": 196,
     "metadata": {},
     "output_type": "execute_result"
    }
   ],
   "source": [
    "features"
   ]
  },
  {
   "cell_type": "code",
   "execution_count": 197,
   "id": "17c3e4a4",
   "metadata": {},
   "outputs": [],
   "source": [
    "# Create feature variable\n",
    "X = telco[features]\n",
    "\n",
    "# Create target variable\n",
    "y = telco['Churn']\n",
    "\n",
    "#Split data into training and testing sets\n",
    "X_train, X_test, y_train, y_test = train_test_split(X, y, test_size = 0.2, random_state = 42)"
   ]
  },
  {
   "cell_type": "markdown",
   "id": "5bbd3498",
   "metadata": {},
   "source": [
    "Varying training set size\n",
    "\n",
    "The size of your training and testing sets influences model performance. Models learn better when they have more training data. However, there's a risk that they overfit to the training data and don't generalize well to new data, so in order to properly evaluate the model's ability to generalize, you need enough testing data. As a result, there is a important balance and trade-off involved between how much you use for training and how much you hold for testing."
   ]
  },
  {
   "cell_type": "code",
   "execution_count": 198,
   "id": "e11f937e",
   "metadata": {
    "scrolled": false
   },
   "outputs": [
    {
     "name": "stdout",
     "output_type": "stream",
     "text": [
      "2666 667\n"
     ]
    }
   ],
   "source": [
    "print(len(X_train), len(X_test))"
   ]
  },
  {
   "cell_type": "markdown",
   "id": "f6ee89fa",
   "metadata": {},
   "source": [
    "Which model to use ?\n",
    "\n",
    "- Logistic Regression\n",
    "- Decision Tree\n",
    "- Support vector machines\n",
    "- Random forests"
   ]
  },
  {
   "cell_type": "code",
   "execution_count": 199,
   "id": "e272786b",
   "metadata": {
    "scrolled": false
   },
   "outputs": [],
   "source": [
    "# Initialize the model\n",
    "lr = LogisticRegression()\n",
    "\n",
    "# Fit the model on the training data\n",
    "lr.fit(X_train, y_train)\n",
    "\n",
    "# Predict the values on the testing data\n",
    "y_pred = lr.predict(X_test)"
   ]
  },
  {
   "cell_type": "code",
   "execution_count": 200,
   "id": "abda636a",
   "metadata": {},
   "outputs": [
    {
     "name": "stdout",
     "output_type": "stream",
     "text": [
      "0.8545727136431784\n",
      "0.5714285714285714\n",
      "0.15841584158415842\n"
     ]
    }
   ],
   "source": [
    "# Measuring model accuracy\n",
    "accuracy = lr.score(X_test, y_test)\n",
    "print(accuracy)\n",
    "\n",
    "# Measuring model precision\n",
    "precision = precision_score(y_test, y_pred)\n",
    "print(precision)\n",
    "\n",
    "## Measuring model recall\n",
    "recall = recall_score(y_test, y_pred)\n",
    "print(recall)"
   ]
  },
  {
   "cell_type": "code",
   "execution_count": 201,
   "id": "10f30cfc",
   "metadata": {},
   "outputs": [],
   "source": [
    "dtc = DecisionTreeClassifier()\n",
    "\n",
    "dtc.fit(X_train, y_train)\n",
    "\n",
    "# Predict the values on the testing data\n",
    "y_pred = dtc.predict(X_test)"
   ]
  },
  {
   "cell_type": "code",
   "execution_count": 202,
   "id": "e9111f3c",
   "metadata": {
    "scrolled": false
   },
   "outputs": [
    {
     "name": "stdout",
     "output_type": "stream",
     "text": [
      "0.9190404797601199\n",
      "0.7281553398058253\n",
      "0.7425742574257426\n"
     ]
    }
   ],
   "source": [
    "# Measuring model accuracy\n",
    "accuracy_dtc = dtc.score(X_test, y_test)\n",
    "print(accuracy_dtc)\n",
    "\n",
    "# Measuring model precision\n",
    "precision_dtc = precision_score(y_test, y_pred)\n",
    "print(precision_dtc)\n",
    "\n",
    "## Measuring model recall\n",
    "recall_dtc = recall_score(y_test, y_pred)\n",
    "print(recall_dtc)"
   ]
  },
  {
   "cell_type": "code",
   "execution_count": 203,
   "id": "1d578e78",
   "metadata": {},
   "outputs": [],
   "source": [
    "# Initialize the model\n",
    "svc = SVC()\n",
    "\n",
    "svc.fit(X_train, y_train)\n",
    "\n",
    "# Predict the values on the testing data\n",
    "y_pred = svc.predict(X_test)"
   ]
  },
  {
   "cell_type": "code",
   "execution_count": 204,
   "id": "1ce10bfd",
   "metadata": {},
   "outputs": [
    {
     "name": "stdout",
     "output_type": "stream",
     "text": [
      "0.9220389805097451\n",
      "0.9622641509433962\n",
      "0.504950495049505\n"
     ]
    }
   ],
   "source": [
    "# Measuring model accuracy\n",
    "accuracy_svc = svc.score(X_test, y_test)\n",
    "print(accuracy_svc)\n",
    "\n",
    "# Measuring model precision\n",
    "precision_svc = precision_score(y_test, y_pred)\n",
    "print(precision_svc)\n",
    "\n",
    "## Measuring model recall\n",
    "recall_svc = recall_score(y_test, y_pred)\n",
    "print(recall_svc)"
   ]
  },
  {
   "cell_type": "code",
   "execution_count": 205,
   "id": "13eedd0e",
   "metadata": {},
   "outputs": [],
   "source": [
    "# Initialize the model\n",
    "rf = RandomForestClassifier()\n",
    "\n",
    "# Fit the model on the training data\n",
    "rf.fit(X_train, y_train)\n",
    "\n",
    "# Predict the values on the testing data\n",
    "y_pred = rf.predict(X_test)"
   ]
  },
  {
   "cell_type": "code",
   "execution_count": 206,
   "id": "221f408e",
   "metadata": {},
   "outputs": [
    {
     "name": "stdout",
     "output_type": "stream",
     "text": [
      "0.9460269865067467\n",
      "0.9012345679012346\n",
      "0.7227722772277227\n"
     ]
    }
   ],
   "source": [
    "# Measuring model accuracy\n",
    "accuracy_rf = rf.score(X_test, y_test)\n",
    "print(accuracy_rf)\n",
    "\n",
    "# Measuring model precision\n",
    "precision_rf = precision_score(y_test, y_pred)\n",
    "print(precision_rf)\n",
    "\n",
    "## Measuring model recall\n",
    "recall_rf = recall_score(y_test, y_pred)\n",
    "print(recall_rf)"
   ]
  },
  {
   "cell_type": "markdown",
   "id": "a6e197c8",
   "metadata": {},
   "source": [
    "Random Forest has a higher accuracy. "
   ]
  },
  {
   "cell_type": "code",
   "execution_count": 207,
   "id": "cac17cff",
   "metadata": {
    "scrolled": false
   },
   "outputs": [
    {
     "data": {
      "text/plain": [
       "0    2850\n",
       "1     483\n",
       "Name: Churn, dtype: int64"
      ]
     },
     "execution_count": 207,
     "metadata": {},
     "output_type": "execute_result"
    }
   ],
   "source": [
    "telco['Churn'].value_counts()"
   ]
  },
  {
   "cell_type": "markdown",
   "id": "765c74bb",
   "metadata": {},
   "source": [
    "But accuracy is not a useful measure in our case. Because our dataset is imbalanced.\n",
    "\n",
    "In our churn dataset, there are nearly 6 times as many non-churners as there are churners. Imbalanced \n",
    "\n",
    "This can have an impact on the performance of our model as it might learn to always predict the majority class - in this case, that the customer will not churn. There are techniques such as upsampling and downsampling that you can use to balance the classes.\n",
    "\n",
    "For our purposes, what this means is that when working with imbalanced classes, accuracy is not a very useful metric.This creates the need for metrics that are more nuanced. So we calculate precision and recall scores.\n",
    "\n",
    "RF model has the highest precision score and recall score."
   ]
  },
  {
   "cell_type": "code",
   "execution_count": null,
   "id": "158dbf6c",
   "metadata": {},
   "outputs": [],
   "source": [
    "#Print the confusion matrix\n",
    "#print(confusion_matrix(y_test, y_pred))"
   ]
  },
  {
   "cell_type": "markdown",
   "id": "6fd200ae",
   "metadata": {},
   "source": [
    "Both precision and recall are important metrics, and depending on how the business is trying to model churn, you may want to focus on optimizing one over the other. \n",
    "\n",
    "Often, stakeholders are interested in a single metric that can quantify model performance. The AUC is one metric you can use in these cases, and another is the F1 score.\n",
    "\n",
    "### ROC Curve"
   ]
  },
  {
   "cell_type": "code",
   "execution_count": 208,
   "id": "91ab8d1a",
   "metadata": {},
   "outputs": [
    {
     "name": "stdout",
     "output_type": "stream",
     "text": [
      "F1 Score for Logistic Regression model is 0.24806201550387594\n",
      "F1 Score for Support Vector Machines model is 0.6623376623376623\n",
      "F1 Score for Decision Tree model is 0.6952380952380952\n",
      "F1 Score for Random Forest model is 0.8176795580110497\n"
     ]
    },
    {
     "data": {
      "image/png": "[encoded data removed]",
      "text/plain": [
       "<Figure size 432x288 with 1 Axes>"
      ]
     },
     "metadata": {
      "needs_background": "light"
     },
     "output_type": "display_data"
    }
   ],
   "source": [
    "# Add the models to the list that we want to view on the ROC plot\n",
    "\n",
    "models = [\n",
    "{\n",
    "    'label': 'Logistic Regression',\n",
    "    'model': LogisticRegression(),\n",
    "},\n",
    "{\n",
    "    'label': 'Support Vector Machines',\n",
    "    'model': SVC(probability=True),\n",
    "},\n",
    "{\n",
    "    'label': 'Decision Tree',\n",
    "    'model': DecisionTreeClassifier(),\n",
    "},\n",
    "    {\n",
    "    'label': 'Random Forest',\n",
    "    'model': RandomForestClassifier(),\n",
    "}\n",
    "]\n",
    "\n",
    "# Below for loop iterates through our models list\n",
    "\n",
    "for m in models:\n",
    "    model = m['model'] # select the model\n",
    "    model.fit(X_train, y_train) # train the model\n",
    "    y_pred=model.predict(X_test) # predict the test data\n",
    "    \n",
    "    # Compute False positive rate, and True positive rate\n",
    "    fpr, tpr, thresholds = roc_curve(y_test, model.predict_proba(X_test)[:,1])\n",
    "    # Calculate the AUC score\n",
    "    auc = roc_auc_score(y_test,model.predict(X_test))   \n",
    "    # Plot the computed AUC scores\n",
    "    plt.plot(fpr, tpr, label='%s ROC (area = %0.2f)' % (m['label'], auc))\n",
    "    # Calculate the F1 Score\n",
    "    print('F1 Score for', m['label'],'model is', f1_score(y_test, y_pred))\n",
    "    \n",
    "plt.plot([0, 1], [0, 1],'k--')\n",
    "plt.xlim([0.0, 1.0])\n",
    "plt.ylim([0.0, 1.0])\n",
    "plt.xlabel('False Positive Rate')\n",
    "plt.ylabel('True Positive Rate')\n",
    "plt.title('ROC Curve')\n",
    "plt.legend(loc=\"lower right\")\n",
    "plt.show()"
   ]
  },
  {
   "cell_type": "markdown",
   "id": "cb17358c",
   "metadata": {},
   "source": [
    "AUC scores (as well as F1 scores) indicate that Decision Tree, Random Forest and Support Vector Machines are well performing models in our case."
   ]
  },
  {
   "cell_type": "markdown",
   "id": "3da68250",
   "metadata": {},
   "source": [
    "# Model Tuning\n",
    "\n",
    "### What are the optimal hyperparameters to improve the model performance ?"
   ]
  },
  {
   "cell_type": "code",
   "execution_count": 209,
   "id": "164c4457",
   "metadata": {},
   "outputs": [
    {
     "data": {
      "text/plain": [
       "GridSearchCV(estimator=RandomForestClassifier(),\n",
       "             param_grid={'bootstrap': [True, False],\n",
       "                         'criterion': ['gini', 'entropy'],\n",
       "                         'max_depth': [3, None], 'max_features': [1, 3, 10]})"
      ]
     },
     "execution_count": 209,
     "metadata": {},
     "output_type": "execute_result"
    }
   ],
   "source": [
    "# Create the hyperparameter grid for Random Forest Model\n",
    "param_grid = {\"max_depth\": [3, None],\n",
    "              \"max_features\": [1, 3, 10],\n",
    "              \"bootstrap\": [True, False],\n",
    "              \"criterion\": [\"gini\", \"entropy\"]}\n",
    "\n",
    "# Call GridSearchCV\n",
    "grid_search = GridSearchCV(rf, param_grid)\n",
    "\n",
    "# Fit the model\n",
    "grid_search.fit(X,y)"
   ]
  },
  {
   "cell_type": "code",
   "execution_count": 215,
   "id": "57a9451f",
   "metadata": {
    "scrolled": true
   },
   "outputs": [
    {
     "data": {
      "text/plain": [
       "{'bootstrap': True,\n",
       " 'criterion': 'entropy',\n",
       " 'max_depth': None,\n",
       " 'max_features': 10}"
      ]
     },
     "execution_count": 215,
     "metadata": {},
     "output_type": "execute_result"
    }
   ],
   "source": [
    "# Optimal hyperparameters\n",
    "grid_search.best_params_"
   ]
  },
  {
   "cell_type": "code",
   "execution_count": 223,
   "id": "f036be72",
   "metadata": {},
   "outputs": [],
   "source": [
    "# Initialize the model and set the hyperparameters to the best params.\n",
    "rf = RandomForestClassifier(bootstrap= True, criterion = 'entropy', max_depth = None, max_features = 10)\n",
    "\n",
    "# Fit the model on the training data\n",
    "rf.fit(X_train, y_train)\n",
    "\n",
    "# Predict the values on the testing data\n",
    "y_pred = rf.predict(X_test)"
   ]
  },
  {
   "cell_type": "markdown",
   "id": "4e75c329",
   "metadata": {},
   "source": [
    "### Which features are important in driving churn ?"
   ]
  },
  {
   "cell_type": "code",
   "execution_count": 219,
   "id": "f1c65a05",
   "metadata": {},
   "outputs": [],
   "source": [
    "# Feature importances \n",
    "importances = rf.feature_importances_"
   ]
  },
  {
   "cell_type": "code",
   "execution_count": 220,
   "id": "b4dca9ac",
   "metadata": {},
   "outputs": [
    {
     "name": "stdout",
     "output_type": "stream",
     "text": [
      "[0.09504927 0.02011085 0.03000615 0.0273878  0.13713187 0.06549686\n",
      " 0.03538487 0.04705192 0.11627874 0.02918106 0.12614783 0.02555834\n",
      " 0.07423759 0.03064836 0.03893169 0.06190616 0.03949064]\n"
     ]
    }
   ],
   "source": [
    "print(importances)"
   ]
  },
  {
   "cell_type": "code",
   "execution_count": 225,
   "id": "78755fca",
   "metadata": {
    "scrolled": false
   },
   "outputs": [
    {
     "data": {
      "image/png": "[encoded data removed]",
      "text/plain": [
       "<Figure size 432x288 with 1 Axes>"
      ]
     },
     "metadata": {
      "needs_background": "light"
     },
     "output_type": "display_data"
    }
   ],
   "source": [
    "# Sort importances\n",
    "sorted_index = np.argsort(importances)\n",
    "\n",
    "# Create labels\n",
    "labels = X.columns[sorted_index]\n",
    "\n",
    "# Clear current plot\n",
    "plt.clf()\n",
    "\n",
    "# Create plot\n",
    "plt.barh(range(X.shape[1]), importances[sorted_index], tick_label=labels)\n",
    "plt.title('Which features are important in driving churn ?')\n",
    "plt.show()"
   ]
  },
  {
   "cell_type": "markdown",
   "id": "488e4b12",
   "metadata": {},
   "source": [
    "The plot tells us that Day_Mins, Day_Charge and CustServ_Calls are the most important drivers of churn. "
   ]
  },
  {
   "cell_type": "markdown",
   "id": "70a8bb1c",
   "metadata": {},
   "source": [
    "What if we added additional sources of data and more features?\n",
    "\n",
    "6 new features have been added to the telco DataFrame:\n",
    "\n",
    "Region_Code\n",
    "Cost_Call\n",
    "Total_Charge\n",
    "Total_Minutes\n",
    "Total_Calls\n",
    "Min_Call"
   ]
  }
 ],
 "metadata": {
  "kernelspec": {
   "display_name": "Python 3 (ipykernel)",
   "language": "python",
   "name": "python3"
  },
  "language_info": {
   "codemirror_mode": {
    "name": "ipython",
    "version": 3
   },
   "file_extension": ".py",
   "mimetype": "text/x-python",
   "name": "python",
   "nbconvert_exporter": "python",
   "pygments_lexer": "ipython3",
   "version": "3.8.5"
  }
 },
 "nbformat": 4,
 "nbformat_minor": 5
}
