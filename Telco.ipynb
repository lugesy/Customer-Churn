{
 "cells": [
  {
   "cell_type": "code",
   "execution_count": 16,
   "id": "a3eb04eb",
   "metadata": {},
   "outputs": [],
   "source": [
    "import pandas as pd\n",
    "import matplotlib.pyplot as plt\n",
    "import seaborn as sns\n",
    "import numpy as np\n",
    "\n",
    "from sklearn.preprocessing import StandardScaler\n",
    "# from sklearn.compose import make_column_transformer\n",
    "\n",
    "\n",
    "# MODELS\n",
    "\n",
    "# Import LogisticRegression\n",
    "from sklearn.linear_model import LogisticRegression\n",
    "\n",
    "# Import DecisionTreeClassifier\n",
    "from sklearn.tree import DecisionTreeClassifier\n",
    "\n",
    "# Import Support Vector Machines\n",
    "from sklearn.svm import SVC \n",
    "\n",
    "# Import RandomForestClassifier\n",
    "from sklearn.ensemble import RandomForestClassifier\n",
    "\n",
    "\n",
    "# MODEL EVAUATION\n",
    "\n",
    "# Import train_test_split \n",
    "from sklearn.model_selection import train_test_split\n",
    "\n",
    "from sklearn.metrics import accuracy_score\n",
    "\n",
    "# Import confusion_matrix\n",
    "from sklearn.metrics import confusion_matrix\n",
    "\n",
    "# Import precision score\n",
    "from sklearn.metrics import precision_score\n",
    "\n",
    "# Import recall_score\n",
    "from sklearn.metrics import recall_score\n",
    "\n",
    "# Import roc_curve\n",
    "from sklearn.metrics import roc_curve\n",
    "\n",
    "# Import roc_auc_score\n",
    "from sklearn.metrics import roc_auc_score\n",
    "\n",
    "# Import f1_score\n",
    "from sklearn.metrics import f1_score\n",
    "\n",
    "# Model Tuning\n",
    "# Import GridSearchCV\n",
    "from sklearn.model_selection import GridSearchCV\n",
    "\n",
    "# Import RandomizedSearchCV (Handy if the Hyperparameter Grid gets larger)\n",
    "from sklearn.model_selection import RandomizedSearchCV"
   ]
  },
  {
   "cell_type": "code",
   "execution_count": 17,
   "id": "d11ef9df",
   "metadata": {},
   "outputs": [
    {
     "ename": "FileNotFoundError",
     "evalue": "[Errno 2] No such file or directory: 'Churn.csv'",
     "output_type": "error",
     "traceback": [
      "\u001b[0;31m---------------------------------------------------------------------------\u001b[0m",
      "\u001b[0;31mFileNotFoundError\u001b[0m                         Traceback (most recent call last)",
      "\u001b[0;32m/var/folders/c9/28ggq06x6v9b8vv3nfy2drz40000gp/T/ipykernel_93786/3406033365.py\u001b[0m in \u001b[0;36m<module>\u001b[0;34m\u001b[0m\n\u001b[0;32m----> 1\u001b[0;31m \u001b[0mtelco\u001b[0m \u001b[0;34m=\u001b[0m \u001b[0mpd\u001b[0m\u001b[0;34m.\u001b[0m\u001b[0mread_csv\u001b[0m\u001b[0;34m(\u001b[0m\u001b[0;34m'Churn.csv'\u001b[0m\u001b[0;34m)\u001b[0m\u001b[0;34m\u001b[0m\u001b[0;34m\u001b[0m\u001b[0m\n\u001b[0m",
      "\u001b[0;32m/Library/Frameworks/Python.framework/Versions/3.8/lib/python3.8/site-packages/pandas/util/_decorators.py\u001b[0m in \u001b[0;36mwrapper\u001b[0;34m(*args, **kwargs)\u001b[0m\n\u001b[1;32m    309\u001b[0m                     \u001b[0mstacklevel\u001b[0m\u001b[0;34m=\u001b[0m\u001b[0mstacklevel\u001b[0m\u001b[0;34m,\u001b[0m\u001b[0;34m\u001b[0m\u001b[0;34m\u001b[0m\u001b[0m\n\u001b[1;32m    310\u001b[0m                 )\n\u001b[0;32m--> 311\u001b[0;31m             \u001b[0;32mreturn\u001b[0m \u001b[0mfunc\u001b[0m\u001b[0;34m(\u001b[0m\u001b[0;34m*\u001b[0m\u001b[0margs\u001b[0m\u001b[0;34m,\u001b[0m \u001b[0;34m**\u001b[0m\u001b[0mkwargs\u001b[0m\u001b[0;34m)\u001b[0m\u001b[0;34m\u001b[0m\u001b[0;34m\u001b[0m\u001b[0m\n\u001b[0m\u001b[1;32m    312\u001b[0m \u001b[0;34m\u001b[0m\u001b[0m\n\u001b[1;32m    313\u001b[0m         \u001b[0;32mreturn\u001b[0m \u001b[0mwrapper\u001b[0m\u001b[0;34m\u001b[0m\u001b[0;34m\u001b[0m\u001b[0m\n",
      "\u001b[0;32m/Library/Frameworks/Python.framework/Versions/3.8/lib/python3.8/site-packages/pandas/io/parsers/readers.py\u001b[0m in \u001b[0;36mread_csv\u001b[0;34m(filepath_or_buffer, sep, delimiter, header, names, index_col, usecols, squeeze, prefix, mangle_dupe_cols, dtype, engine, converters, true_values, false_values, skipinitialspace, skiprows, skipfooter, nrows, na_values, keep_default_na, na_filter, verbose, skip_blank_lines, parse_dates, infer_datetime_format, keep_date_col, date_parser, dayfirst, cache_dates, iterator, chunksize, compression, thousands, decimal, lineterminator, quotechar, quoting, doublequote, escapechar, comment, encoding, encoding_errors, dialect, error_bad_lines, warn_bad_lines, on_bad_lines, delim_whitespace, low_memory, memory_map, float_precision, storage_options)\u001b[0m\n\u001b[1;32m    584\u001b[0m     \u001b[0mkwds\u001b[0m\u001b[0;34m.\u001b[0m\u001b[0mupdate\u001b[0m\u001b[0;34m(\u001b[0m\u001b[0mkwds_defaults\u001b[0m\u001b[0;34m)\u001b[0m\u001b[0;34m\u001b[0m\u001b[0;34m\u001b[0m\u001b[0m\n\u001b[1;32m    585\u001b[0m \u001b[0;34m\u001b[0m\u001b[0m\n\u001b[0;32m--> 586\u001b[0;31m     \u001b[0;32mreturn\u001b[0m \u001b[0m_read\u001b[0m\u001b[0;34m(\u001b[0m\u001b[0mfilepath_or_buffer\u001b[0m\u001b[0;34m,\u001b[0m \u001b[0mkwds\u001b[0m\u001b[0;34m)\u001b[0m\u001b[0;34m\u001b[0m\u001b[0;34m\u001b[0m\u001b[0m\n\u001b[0m\u001b[1;32m    587\u001b[0m \u001b[0;34m\u001b[0m\u001b[0m\n\u001b[1;32m    588\u001b[0m \u001b[0;34m\u001b[0m\u001b[0m\n",
      "\u001b[0;32m/Library/Frameworks/Python.framework/Versions/3.8/lib/python3.8/site-packages/pandas/io/parsers/readers.py\u001b[0m in \u001b[0;36m_read\u001b[0;34m(filepath_or_buffer, kwds)\u001b[0m\n\u001b[1;32m    480\u001b[0m \u001b[0;34m\u001b[0m\u001b[0m\n\u001b[1;32m    481\u001b[0m     \u001b[0;31m# Create the parser.\u001b[0m\u001b[0;34m\u001b[0m\u001b[0;34m\u001b[0m\u001b[0;34m\u001b[0m\u001b[0m\n\u001b[0;32m--> 482\u001b[0;31m     \u001b[0mparser\u001b[0m \u001b[0;34m=\u001b[0m \u001b[0mTextFileReader\u001b[0m\u001b[0;34m(\u001b[0m\u001b[0mfilepath_or_buffer\u001b[0m\u001b[0;34m,\u001b[0m \u001b[0;34m**\u001b[0m\u001b[0mkwds\u001b[0m\u001b[0;34m)\u001b[0m\u001b[0;34m\u001b[0m\u001b[0;34m\u001b[0m\u001b[0m\n\u001b[0m\u001b[1;32m    483\u001b[0m \u001b[0;34m\u001b[0m\u001b[0m\n\u001b[1;32m    484\u001b[0m     \u001b[0;32mif\u001b[0m \u001b[0mchunksize\u001b[0m \u001b[0;32mor\u001b[0m \u001b[0miterator\u001b[0m\u001b[0;34m:\u001b[0m\u001b[0;34m\u001b[0m\u001b[0;34m\u001b[0m\u001b[0m\n",
      "\u001b[0;32m/Library/Frameworks/Python.framework/Versions/3.8/lib/python3.8/site-packages/pandas/io/parsers/readers.py\u001b[0m in \u001b[0;36m__init__\u001b[0;34m(self, f, engine, **kwds)\u001b[0m\n\u001b[1;32m    809\u001b[0m             \u001b[0mself\u001b[0m\u001b[0;34m.\u001b[0m\u001b[0moptions\u001b[0m\u001b[0;34m[\u001b[0m\u001b[0;34m\"has_index_names\"\u001b[0m\u001b[0;34m]\u001b[0m \u001b[0;34m=\u001b[0m \u001b[0mkwds\u001b[0m\u001b[0;34m[\u001b[0m\u001b[0;34m\"has_index_names\"\u001b[0m\u001b[0;34m]\u001b[0m\u001b[0;34m\u001b[0m\u001b[0;34m\u001b[0m\u001b[0m\n\u001b[1;32m    810\u001b[0m \u001b[0;34m\u001b[0m\u001b[0m\n\u001b[0;32m--> 811\u001b[0;31m         \u001b[0mself\u001b[0m\u001b[0;34m.\u001b[0m\u001b[0m_engine\u001b[0m \u001b[0;34m=\u001b[0m \u001b[0mself\u001b[0m\u001b[0;34m.\u001b[0m\u001b[0m_make_engine\u001b[0m\u001b[0;34m(\u001b[0m\u001b[0mself\u001b[0m\u001b[0;34m.\u001b[0m\u001b[0mengine\u001b[0m\u001b[0;34m)\u001b[0m\u001b[0;34m\u001b[0m\u001b[0;34m\u001b[0m\u001b[0m\n\u001b[0m\u001b[1;32m    812\u001b[0m \u001b[0;34m\u001b[0m\u001b[0m\n\u001b[1;32m    813\u001b[0m     \u001b[0;32mdef\u001b[0m \u001b[0mclose\u001b[0m\u001b[0;34m(\u001b[0m\u001b[0mself\u001b[0m\u001b[0;34m)\u001b[0m\u001b[0;34m:\u001b[0m\u001b[0;34m\u001b[0m\u001b[0;34m\u001b[0m\u001b[0m\n",
      "\u001b[0;32m/Library/Frameworks/Python.framework/Versions/3.8/lib/python3.8/site-packages/pandas/io/parsers/readers.py\u001b[0m in \u001b[0;36m_make_engine\u001b[0;34m(self, engine)\u001b[0m\n\u001b[1;32m   1038\u001b[0m             )\n\u001b[1;32m   1039\u001b[0m         \u001b[0;31m# error: Too many arguments for \"ParserBase\"\u001b[0m\u001b[0;34m\u001b[0m\u001b[0;34m\u001b[0m\u001b[0;34m\u001b[0m\u001b[0m\n\u001b[0;32m-> 1040\u001b[0;31m         \u001b[0;32mreturn\u001b[0m \u001b[0mmapping\u001b[0m\u001b[0;34m[\u001b[0m\u001b[0mengine\u001b[0m\u001b[0;34m]\u001b[0m\u001b[0;34m(\u001b[0m\u001b[0mself\u001b[0m\u001b[0;34m.\u001b[0m\u001b[0mf\u001b[0m\u001b[0;34m,\u001b[0m \u001b[0;34m**\u001b[0m\u001b[0mself\u001b[0m\u001b[0;34m.\u001b[0m\u001b[0moptions\u001b[0m\u001b[0;34m)\u001b[0m  \u001b[0;31m# type: ignore[call-arg]\u001b[0m\u001b[0;34m\u001b[0m\u001b[0;34m\u001b[0m\u001b[0m\n\u001b[0m\u001b[1;32m   1041\u001b[0m \u001b[0;34m\u001b[0m\u001b[0m\n\u001b[1;32m   1042\u001b[0m     \u001b[0;32mdef\u001b[0m \u001b[0m_failover_to_python\u001b[0m\u001b[0;34m(\u001b[0m\u001b[0mself\u001b[0m\u001b[0;34m)\u001b[0m\u001b[0;34m:\u001b[0m\u001b[0;34m\u001b[0m\u001b[0;34m\u001b[0m\u001b[0m\n",
      "\u001b[0;32m/Library/Frameworks/Python.framework/Versions/3.8/lib/python3.8/site-packages/pandas/io/parsers/c_parser_wrapper.py\u001b[0m in \u001b[0;36m__init__\u001b[0;34m(self, src, **kwds)\u001b[0m\n\u001b[1;32m     49\u001b[0m \u001b[0;34m\u001b[0m\u001b[0m\n\u001b[1;32m     50\u001b[0m         \u001b[0;31m# open handles\u001b[0m\u001b[0;34m\u001b[0m\u001b[0;34m\u001b[0m\u001b[0;34m\u001b[0m\u001b[0m\n\u001b[0;32m---> 51\u001b[0;31m         \u001b[0mself\u001b[0m\u001b[0;34m.\u001b[0m\u001b[0m_open_handles\u001b[0m\u001b[0;34m(\u001b[0m\u001b[0msrc\u001b[0m\u001b[0;34m,\u001b[0m \u001b[0mkwds\u001b[0m\u001b[0;34m)\u001b[0m\u001b[0;34m\u001b[0m\u001b[0;34m\u001b[0m\u001b[0m\n\u001b[0m\u001b[1;32m     52\u001b[0m         \u001b[0;32massert\u001b[0m \u001b[0mself\u001b[0m\u001b[0;34m.\u001b[0m\u001b[0mhandles\u001b[0m \u001b[0;32mis\u001b[0m \u001b[0;32mnot\u001b[0m \u001b[0;32mNone\u001b[0m\u001b[0;34m\u001b[0m\u001b[0;34m\u001b[0m\u001b[0m\n\u001b[1;32m     53\u001b[0m \u001b[0;34m\u001b[0m\u001b[0m\n",
      "\u001b[0;32m/Library/Frameworks/Python.framework/Versions/3.8/lib/python3.8/site-packages/pandas/io/parsers/base_parser.py\u001b[0m in \u001b[0;36m_open_handles\u001b[0;34m(self, src, kwds)\u001b[0m\n\u001b[1;32m    220\u001b[0m         \u001b[0mLet\u001b[0m \u001b[0mthe\u001b[0m \u001b[0mreaders\u001b[0m \u001b[0mopen\u001b[0m \u001b[0mIOHandles\u001b[0m \u001b[0mafter\u001b[0m \u001b[0mthey\u001b[0m \u001b[0mare\u001b[0m \u001b[0mdone\u001b[0m \u001b[0;32mwith\u001b[0m \u001b[0mtheir\u001b[0m \u001b[0mpotential\u001b[0m \u001b[0mraises\u001b[0m\u001b[0;34m.\u001b[0m\u001b[0;34m\u001b[0m\u001b[0;34m\u001b[0m\u001b[0m\n\u001b[1;32m    221\u001b[0m         \"\"\"\n\u001b[0;32m--> 222\u001b[0;31m         self.handles = get_handle(\n\u001b[0m\u001b[1;32m    223\u001b[0m             \u001b[0msrc\u001b[0m\u001b[0;34m,\u001b[0m\u001b[0;34m\u001b[0m\u001b[0;34m\u001b[0m\u001b[0m\n\u001b[1;32m    224\u001b[0m             \u001b[0;34m\"r\"\u001b[0m\u001b[0;34m,\u001b[0m\u001b[0;34m\u001b[0m\u001b[0;34m\u001b[0m\u001b[0m\n",
      "\u001b[0;32m/Library/Frameworks/Python.framework/Versions/3.8/lib/python3.8/site-packages/pandas/io/common.py\u001b[0m in \u001b[0;36mget_handle\u001b[0;34m(path_or_buf, mode, encoding, compression, memory_map, is_text, errors, storage_options)\u001b[0m\n\u001b[1;32m    700\u001b[0m         \u001b[0;32mif\u001b[0m \u001b[0mioargs\u001b[0m\u001b[0;34m.\u001b[0m\u001b[0mencoding\u001b[0m \u001b[0;32mand\u001b[0m \u001b[0;34m\"b\"\u001b[0m \u001b[0;32mnot\u001b[0m \u001b[0;32min\u001b[0m \u001b[0mioargs\u001b[0m\u001b[0;34m.\u001b[0m\u001b[0mmode\u001b[0m\u001b[0;34m:\u001b[0m\u001b[0;34m\u001b[0m\u001b[0;34m\u001b[0m\u001b[0m\n\u001b[1;32m    701\u001b[0m             \u001b[0;31m# Encoding\u001b[0m\u001b[0;34m\u001b[0m\u001b[0;34m\u001b[0m\u001b[0;34m\u001b[0m\u001b[0m\n\u001b[0;32m--> 702\u001b[0;31m             handle = open(\n\u001b[0m\u001b[1;32m    703\u001b[0m                 \u001b[0mhandle\u001b[0m\u001b[0;34m,\u001b[0m\u001b[0;34m\u001b[0m\u001b[0;34m\u001b[0m\u001b[0m\n\u001b[1;32m    704\u001b[0m                 \u001b[0mioargs\u001b[0m\u001b[0;34m.\u001b[0m\u001b[0mmode\u001b[0m\u001b[0;34m,\u001b[0m\u001b[0;34m\u001b[0m\u001b[0;34m\u001b[0m\u001b[0m\n",
      "\u001b[0;31mFileNotFoundError\u001b[0m: [Errno 2] No such file or directory: 'Churn.csv'"
     ]
    }
   ],
   "source": [
    "telco = pd.read_csv('Churn.csv')"
   ]
  },
  {
   "cell_type": "markdown",
   "id": "c239f187",
   "metadata": {},
   "source": [
    "## Exploratory Data Analysis"
   ]
  },
  {
   "cell_type": "code",
   "execution_count": null,
   "id": "9f12f0e5",
   "metadata": {},
   "outputs": [],
   "source": [
    "telco.head()"
   ]
  },
  {
   "cell_type": "code",
   "execution_count": null,
   "id": "80d7675a",
   "metadata": {},
   "outputs": [],
   "source": [
    "telco.dtypes\n",
    "#telco.info()"
   ]
  },
  {
   "cell_type": "code",
   "execution_count": null,
   "id": "58f0dd0c",
   "metadata": {},
   "outputs": [],
   "source": [
    " telco.describe() "
   ]
  },
  {
   "cell_type": "code",
   "execution_count": null,
   "id": "37a36b51",
   "metadata": {},
   "outputs": [],
   "source": [
    " # How many churners does the dataset have, and how many non-churners?\n",
    "telco['Churn'].value_counts()"
   ]
  },
  {
   "cell_type": "code",
   "execution_count": null,
   "id": "570b16f6",
   "metadata": {},
   "outputs": [],
   "source": [
    "print(telco.groupby(['Churn']).mean()) "
   ]
  },
  {
   "cell_type": "markdown",
   "id": "b08c689e",
   "metadata": {},
   "source": [
    "Churners seem to make more customer service calls than non-churners. (CustServ_Calls)"
   ]
  },
  {
   "cell_type": "code",
   "execution_count": null,
   "id": "8f185710",
   "metadata": {},
   "outputs": [],
   "source": [
    "print(telco.groupby(['Churn']).std())"
   ]
  },
  {
   "cell_type": "code",
   "execution_count": null,
   "id": "e545c833",
   "metadata": {},
   "outputs": [],
   "source": [
    "# Count the number of churners and non-churners by State\n",
    "churn_by_st = pd.crosstab(telco.State, telco.Churn, normalize=False)"
   ]
  },
  {
   "cell_type": "code",
   "execution_count": null,
   "id": "7a308a21",
   "metadata": {
    "scrolled": true
   },
   "outputs": [],
   "source": [
    "churn_by_st['percentage'] = churn_by_st['yes']*100 / (churn_by_st['yes'] + churn_by_st['no'])"
   ]
  },
  {
   "cell_type": "code",
   "execution_count": null,
   "id": "892de571",
   "metadata": {},
   "outputs": [],
   "source": [
    "churn_by_st.sort_values(by = 'percentage', ascending=False)"
   ]
  },
  {
   "cell_type": "markdown",
   "id": "4441373e",
   "metadata": {},
   "source": [
    "California, New Jersey and Texas has a higher number (and percentage) of customers who churned."
   ]
  },
  {
   "cell_type": "code",
   "execution_count": null,
   "id": "b3256218",
   "metadata": {},
   "outputs": [],
   "source": [
    "#Visualise the distribution of account lenghts\n",
    "sns.distplot(telco['Account_Length'])"
   ]
  },
  {
   "cell_type": "code",
   "execution_count": null,
   "id": "dd95565b",
   "metadata": {},
   "outputs": [],
   "source": [
    "# Count the number of churners and non-churners by State\n",
    "print(telco.groupby('State')['Churn'].value_counts())"
   ]
  },
  {
   "cell_type": "code",
   "execution_count": null,
   "id": "2ddfca2e",
   "metadata": {
    "scrolled": true
   },
   "outputs": [],
   "source": [
    "#Visualize the differences in account length between churners and non-churners.\n",
    "sns.boxplot(x ='Churn', \n",
    "            y = 'Account_Length',\n",
    "            data = telco)"
   ]
  },
  {
   "cell_type": "markdown",
   "id": "8542dd49",
   "metadata": {},
   "source": [
    " There doesn't appear to be any noticeable difference in account length."
   ]
  },
  {
   "cell_type": "code",
   "execution_count": null,
   "id": "08b0de8f",
   "metadata": {
    "scrolled": true
   },
   "outputs": [],
   "source": [
    "#Does the International Plan feature have an impact on account length or churn ?\n",
    "# Create the box plot\n",
    "sns.boxplot(x = 'Churn',\n",
    "            y = 'Account_Length',\n",
    "            data = telco,\n",
    "            #remove the outliers\n",
    "            sym = \"\",\n",
    "            hue = 'Intl_Plan') \n",
    "\n",
    "# Display the plot\n",
    "plt.show()"
   ]
  },
  {
   "cell_type": "markdown",
   "id": "7abb35df",
   "metadata": {},
   "source": [
    "There doesn't appear to be any noticeable difference in account length."
   ]
  },
  {
   "cell_type": "code",
   "execution_count": null,
   "id": "c7e96da3",
   "metadata": {},
   "outputs": [],
   "source": [
    "fig = plt.figure(figsize=(10,10))\n",
    "ax1 = fig.add_subplot(2,2,1)\n",
    "ax2 = fig.add_subplot(2,2,2)\n",
    "ax3 = fig.add_subplot(2,2,3)\n",
    "ax4 = fig.add_subplot(2,2,4)\n",
    "\n",
    "axes = {ax1:['Day_Mins',\"Day\"], ax2:['Eve_Mins',\"Eve\"],ax3:['Night_Mins',\"Night\"],ax4:['Intl_Mins',\"Int\"]}\n",
    "\n",
    "\n",
    "for x in axes:\n",
    "    k = axes[x]\n",
    "    freq = k[0]\n",
    "    title = k[1]\n",
    "    sns.histplot(telco[freq],ax = x)"
   ]
  },
  {
   "cell_type": "markdown",
   "id": "29306e35",
   "metadata": {},
   "source": [
    "All of these features appear to be well approximated by the normal distribution. If this were not the case, we would have to consider applying a feature transformation of some kind.\n",
    "\n",
    "There's not much of a difference in account lengths between churners and non-churners, but that there is a difference in the number of customer service calls left by churners.\n",
    "\n",
    "Do customers who have international plans make more customer service calls? \n",
    "Or do they tend to churn more? How about voicemail plans? "
   ]
  },
  {
   "cell_type": "code",
   "execution_count": null,
   "id": "3dacf619",
   "metadata": {
    "scrolled": true
   },
   "outputs": [],
   "source": [
    "#Does having a voice mail plan affect the number of customer service calls or churn?\n",
    "\n",
    "# Create the box plot\n",
    "sns.boxplot(x = 'Churn',\n",
    "            y = 'CustServ_Calls',\n",
    "            data = telco,\n",
    "            #remove the outliers\n",
    "            sym = \"\",\n",
    "            hue = 'Vmail_Plan') \n",
    "\n",
    "# Display the plot\n",
    "plt.show()"
   ]
  },
  {
   "cell_type": "markdown",
   "id": "3cb9ace5",
   "metadata": {},
   "source": [
    "There isn't much difference."
   ]
  },
  {
   "cell_type": "code",
   "execution_count": null,
   "id": "ad3ef507",
   "metadata": {},
   "outputs": [],
   "source": [
    "#Does having an international plan affect the number of customer service calls or churn?\n",
    "# Create the box plot\n",
    "sns.boxplot(x = 'Churn',\n",
    "            y = 'CustServ_Calls',\n",
    "            data = telco,\n",
    "            #remove the outliers\n",
    "            sym = \"\",\n",
    "            hue = 'Intl_Plan') \n",
    "\n",
    "# Display the plot\n",
    "plt.show()"
   ]
  },
  {
   "cell_type": "markdown",
   "id": "bbd6eb0a",
   "metadata": {},
   "source": [
    "Customers who do churn end up leaving more customer service calls, unless these customers also have an international plan, in which case they leave fewer customer service calls."
   ]
  },
  {
   "cell_type": "markdown",
   "id": "cda9188c",
   "metadata": {},
   "source": [
    "## Data Preprocessing"
   ]
  },
  {
   "cell_type": "code",
   "execution_count": null,
   "id": "3512d9f9",
   "metadata": {
    "scrolled": true
   },
   "outputs": [],
   "source": [
    "print(telco.dtypes)\n",
    "\n",
    "# Print the number of unique values in each telco column\n",
    "print(telco.nunique())"
   ]
  },
  {
   "cell_type": "markdown",
   "id": "a71f32f7",
   "metadata": {},
   "source": [
    "#### Separate numerical and categorical columns"
   ]
  },
  {
   "cell_type": "code",
   "execution_count": null,
   "id": "d5dff59f",
   "metadata": {},
   "outputs": [],
   "source": [
    "# Store Phone and Churn column names\n",
    "phone = ['Phone']\n",
    "target = ['Churn']\n",
    "unnecessary = ['Area_Code']\n",
    "\n",
    "# Store categorical column names\n",
    "categorical = telco.nunique()[telco.nunique() < 5].keys().tolist()\n",
    "categorical.append('State')\n",
    "categorical.remove(unnecessary[0])\n",
    "\n",
    "# Remove target from the list of categorical variables\n",
    "categorical.remove(target[0])\n",
    "\n",
    "# Store numerical column names\n",
    "numerical = [x for x in telco.columns if x not in phone + target + categorical + unnecessary]"
   ]
  },
  {
   "cell_type": "code",
   "execution_count": null,
   "id": "0a1d253d",
   "metadata": {},
   "outputs": [],
   "source": [
    "print(categorical)\n",
    "print('\\n')\n",
    "print(numerical)"
   ]
  },
  {
   "cell_type": "markdown",
   "id": "b3ac5a94",
   "metadata": {},
   "source": [
    "#### One hot encoding"
   ]
  },
  {
   "cell_type": "code",
   "execution_count": null,
   "id": "f83ccf47",
   "metadata": {},
   "outputs": [],
   "source": [
    "# Perform one-hot encoding to categorical variables \n",
    "telco = pd.get_dummies(data = telco, columns = categorical, drop_first=True)"
   ]
  },
  {
   "cell_type": "code",
   "execution_count": null,
   "id": "31eb9147",
   "metadata": {},
   "outputs": [],
   "source": [
    "telco = telco.rename(columns = {'Intl_Plan_yes' : 'Intl_Plan', 'Vmail_Plan_yes' : 'Vmail_Plan'})"
   ]
  },
  {
   "cell_type": "code",
   "execution_count": null,
   "id": "446b3879",
   "metadata": {},
   "outputs": [],
   "source": [
    "telco['Churn'] = telco['Churn'].replace({'yes': 1, 'no': 0})"
   ]
  },
  {
   "cell_type": "code",
   "execution_count": null,
   "id": "76482e0d",
   "metadata": {},
   "outputs": [],
   "source": [
    "telco['Churn']"
   ]
  },
  {
   "cell_type": "markdown",
   "id": "7a70f11f",
   "metadata": {},
   "source": [
    "##### Scaling numerical features"
   ]
  },
  {
   "cell_type": "code",
   "execution_count": null,
   "id": "5cfd968e",
   "metadata": {},
   "outputs": [],
   "source": [
    "# Initialize StandardScaler instance\n",
    "scaler = StandardScaler()\n",
    "\n",
    "# Fit and transform the scaler on numerical columns\n",
    "scaled_numerical = scaler.fit_transform(telco[numerical])\n",
    "\n",
    "# Build a DataFrame from scaled_numerical\n",
    "scaled_numerical = pd.DataFrame(scaled_numerical, columns=numerical)"
   ]
  },
  {
   "cell_type": "code",
   "execution_count": null,
   "id": "62f59606",
   "metadata": {
    "scrolled": true
   },
   "outputs": [],
   "source": [
    "scaled_numerical.head()"
   ]
  },
  {
   "cell_type": "code",
   "execution_count": null,
   "id": "991d55a3",
   "metadata": {},
   "outputs": [],
   "source": [
    "telco = telco.drop(columns=numerical, axis = 1)"
   ]
  },
  {
   "cell_type": "code",
   "execution_count": null,
   "id": "957e2fe2",
   "metadata": {},
   "outputs": [],
   "source": [
    "telco = telco.merge(right = scaled_numerical, \n",
    "            how = 'left',\n",
    "            left_index = True,\n",
    "            right_index = True\n",
    "           )"
   ]
  },
  {
   "cell_type": "markdown",
   "id": "dd72d4af",
   "metadata": {},
   "source": [
    "## Feature selection & Feature Engineering"
   ]
  },
  {
   "cell_type": "code",
   "execution_count": null,
   "id": "4e5621bf",
   "metadata": {},
   "outputs": [],
   "source": [
    "telco.info()"
   ]
  },
  {
   "cell_type": "code",
   "execution_count": null,
   "id": "bfa1804b",
   "metadata": {
    "scrolled": true
   },
   "outputs": [],
   "source": [
    "#Drop the unnecessary features\n",
    "#Drop the unique identifiers\n",
    "telco = telco.drop(['Area_Code', 'Phone'], axis = 1)"
   ]
  },
  {
   "cell_type": "code",
   "execution_count": null,
   "id": "c7cc52d5",
   "metadata": {},
   "outputs": [],
   "source": [
    "telco.columns"
   ]
  },
  {
   "cell_type": "markdown",
   "id": "3666b950",
   "metadata": {},
   "source": [
    "## Modeling\n",
    "\n",
    "We'll predict the customer churn.\n",
    "Supervised machine learning with historical data"
   ]
  },
  {
   "cell_type": "code",
   "execution_count": null,
   "id": "eaa1ed8d",
   "metadata": {},
   "outputs": [],
   "source": [
    "features = telco.columns.tolist()\n",
    "features.remove('Churn')"
   ]
  },
  {
   "cell_type": "code",
   "execution_count": null,
   "id": "17c3e4a4",
   "metadata": {},
   "outputs": [],
   "source": [
    "# Create feature variable\n",
    "X = telco[features]\n",
    "\n",
    "# Create target variable\n",
    "y = telco['Churn']\n",
    "\n",
    "#Split data into training and testing sets\n",
    "X_train, X_test, y_train, y_test = train_test_split(X, y, test_size = 0.2)"
   ]
  },
  {
   "cell_type": "markdown",
   "id": "f6ee89fa",
   "metadata": {},
   "source": [
    "Which model to use ?\n",
    "\n",
    "- Logistic Regression\n",
    "- Decision Tree\n",
    "- Support vector machines\n",
    "- Random forests"
   ]
  },
  {
   "cell_type": "code",
   "execution_count": null,
   "id": "e272786b",
   "metadata": {
    "scrolled": false
   },
   "outputs": [],
   "source": [
    "# Initialize the model\n",
    "lr = LogisticRegression()\n",
    "\n",
    "# Fit the model on the training data\n",
    "#lr.fit(X_train, y_train)\n",
    "\n",
    "# Predict the values on the training data\n",
    "#y_train_pred = lr.predict(X_train)\n",
    "\n",
    "# Predict the values on the testing data\n",
    "#y_test_pred = lr.predict(X_test)\n"
   ]
  },
  {
   "cell_type": "code",
   "execution_count": null,
   "id": "10f30cfc",
   "metadata": {},
   "outputs": [],
   "source": [
    "dtc = DecisionTreeClassifier()"
   ]
  },
  {
   "cell_type": "code",
   "execution_count": null,
   "id": "13eedd0e",
   "metadata": {},
   "outputs": [],
   "source": [
    "rf = RandomForestClassifier()"
   ]
  },
  {
   "cell_type": "code",
   "execution_count": null,
   "id": "1d578e78",
   "metadata": {},
   "outputs": [],
   "source": [
    "svc = SVC(probability=True)"
   ]
  },
  {
   "cell_type": "code",
   "execution_count": null,
   "id": "221f408e",
   "metadata": {},
   "outputs": [],
   "source": [
    "models = {'Logistic regression':lr, 'Decision Tree': dtc,'Random Forest' : rf, 'Support Vector Machines':svc}"
   ]
  },
  {
   "cell_type": "code",
   "execution_count": null,
   "id": "abda636a",
   "metadata": {},
   "outputs": [],
   "source": [
    "ac_list = []\n",
    "pre_list = []\n",
    "rec_list = []\n",
    "name_list = []\n",
    "auc_list = []\n",
    "f1_list = []\n",
    "\n",
    "for item in models.items():\n",
    "        # Fit the model on the training data\n",
    "        item[1].fit(X_train, y_train)\n",
    "\n",
    "        # Predict the values on the training data\n",
    "        y_train_pred = item[1].predict(X_train)\n",
    "\n",
    "        # Predict the values on the testing data\n",
    "        y_test_pred = item[1].predict(X_test)\n",
    "\n",
    "        # Measuring model accuracy\n",
    "        train_accuracy = round(accuracy_score(y_train, y_train_pred),4)\n",
    "        test_accuracy = round(accuracy_score(y_test, y_test_pred),4)\n",
    "\n",
    "        # Measuring model precision\n",
    "        train_precision = round(precision_score(y_train, y_train_pred),4)\n",
    "        test_precision = round(precision_score(y_test, y_test_pred),4)\n",
    "\n",
    "        # Measuring model recall\n",
    "        train_recall =  round(recall_score(y_train, y_train_pred),4)\n",
    "        test_recall = round(recall_score(y_test, y_test_pred),4)\n",
    "        \n",
    "        # Calculating AUC\n",
    "        # Generate the probabilities\n",
    "        y_pred_prob = item[1].predict_proba(X_test)[:, 1]   \n",
    "        auc_score = roc_auc_score(y_test, y_pred_prob)\n",
    "        \n",
    "        # Calculating F1 score - Check it!!!\n",
    "        \n",
    "        f1_sc = f1_score(y_test, y_test_pred)\n",
    "    \n",
    "        name_list.append(item[0])\n",
    "        ac_list.append(test_accuracy)\n",
    "        pre_list.append(test_precision)\n",
    "        rec_list.append(test_recall)\n",
    "        auc_list.append(auc_score)\n",
    "        f1_list.append(f1_sc)"
   ]
  },
  {
   "cell_type": "code",
   "execution_count": null,
   "id": "d845d975",
   "metadata": {},
   "outputs": [],
   "source": [
    "df = pd.DataFrame({'Model': name_list,'Accuracy': ac_list, 'Precision': pre_list, 'Recall': rec_list, 'ROC_AUC': auc_list, 'F1': f1_list})\n",
    "df\n"
   ]
  },
  {
   "cell_type": "markdown",
   "id": "e227f6f6",
   "metadata": {},
   "source": [
    "## Evaluating Model Performance"
   ]
  },
  {
   "cell_type": "markdown",
   "id": "240cb53c",
   "metadata": {},
   "source": [
    "#### Model Metrics\n",
    "\n",
    "- Accuracy\n",
    "- Precision\n",
    "- Recall\n",
    "- ROC Curve\n",
    "- Precision-recall curve (which shows the tradeoff between precision and recall for different thresholds.)\n",
    "F1 Score"
   ]
  },
  {
   "cell_type": "code",
   "execution_count": 3,
   "id": "e11f937e",
   "metadata": {
    "scrolled": true
   },
   "outputs": [
    {
     "ename": "NameError",
     "evalue": "name 'X_train' is not defined",
     "output_type": "error",
     "traceback": [
      "\u001b[0;31m---------------------------------------------------------------------------\u001b[0m",
      "\u001b[0;31mNameError\u001b[0m                                 Traceback (most recent call last)",
      "\u001b[0;32m/var/folders/c9/28ggq06x6v9b8vv3nfy2drz40000gp/T/ipykernel_93786/3202604845.py\u001b[0m in \u001b[0;36m<module>\u001b[0;34m\u001b[0m\n\u001b[0;32m----> 1\u001b[0;31m \u001b[0mprint\u001b[0m\u001b[0;34m(\u001b[0m\u001b[0mlen\u001b[0m\u001b[0;34m(\u001b[0m\u001b[0mX_train\u001b[0m\u001b[0;34m)\u001b[0m\u001b[0;34m,\u001b[0m \u001b[0mlen\u001b[0m\u001b[0;34m(\u001b[0m\u001b[0mX_test\u001b[0m\u001b[0;34m)\u001b[0m\u001b[0;34m)\u001b[0m\u001b[0;34m\u001b[0m\u001b[0;34m\u001b[0m\u001b[0m\n\u001b[0m",
      "\u001b[0;31mNameError\u001b[0m: name 'X_train' is not defined"
     ]
    }
   ],
   "source": [
    "print(len(X_train), len(X_test))"
   ]
  },
  {
   "cell_type": "code",
   "execution_count": 133,
   "id": "cac17cff",
   "metadata": {},
   "outputs": [
    {
     "data": {
      "text/plain": [
       "0    2850\n",
       "1     483\n",
       "Name: Churn, dtype: int64"
      ]
     },
     "execution_count": 133,
     "metadata": {},
     "output_type": "execute_result"
    }
   ],
   "source": [
    "telco['Churn'].value_counts()"
   ]
  },
  {
   "cell_type": "code",
   "execution_count": 140,
   "id": "158dbf6c",
   "metadata": {},
   "outputs": [],
   "source": [
    "# Print the confusion matrix\n",
    "#print(confusion_matrix(y_test, y_pred))"
   ]
  },
  {
   "cell_type": "markdown",
   "id": "5bbd3498",
   "metadata": {},
   "source": [
    "Varying training set size\n",
    "\n",
    "The size of your training and testing sets influences model performance. Models learn better when they have more training data. However, there's a risk that they overfit to the training data and don't generalize well to new data, so in order to properly evaluate the model's ability to generalize, you need enough testing data. As a result, there is a important balance and trade-off involved between how much you use for training and how much you hold for testing."
   ]
  },
  {
   "cell_type": "code",
   "execution_count": 142,
   "id": "9b632364",
   "metadata": {},
   "outputs": [],
   "source": [
    "# Create feature variable\n",
    "X = scaled_features.drop(['Churn','State'], axis=1)\n",
    "  \n",
    "# Create target variable\n",
    "y = scaled_features['Churn']\n",
    "\n",
    "# Create training and testing sets \n",
    "X_train, X_test, y_train, y_test = train_test_split(X, y, test_size = 0.2)"
   ]
  },
  {
   "cell_type": "code",
   "execution_count": 131,
   "id": "54f3479e",
   "metadata": {},
   "outputs": [
    {
     "data": {
      "text/plain": [
       "RandomForestClassifier()"
      ]
     },
     "execution_count": 131,
     "metadata": {},
     "output_type": "execute_result"
    }
   ],
   "source": [
    "# Create training and testing sets\n",
    "X_train, X_test, y_train, y_test = train_test_split(X, y, test_size=0.1)\n",
    "\n",
    "rndClf = RandomForestClassifier()   \n",
    "                       \n",
    "# Fit to the training data\n",
    "rndClf.fit(X_train, y_train) \n",
    "      \n",
    "# Print the recall      \n",
    "#print(recall_score(y_test, y_pred))"
   ]
  },
  {
   "cell_type": "code",
   "execution_count": 129,
   "id": "3987d45b",
   "metadata": {
    "scrolled": true
   },
   "outputs": [
    {
     "data": {
      "image/png": "[encoded data removed]",
      "text/plain": [
       "<Figure size 432x288 with 1 Axes>"
      ]
     },
     "metadata": {
      "needs_background": "light"
     },
     "output_type": "display_data"
    }
   ],
   "source": [
    "# ROC Curve\n",
    "\n",
    "# Generate the probabilities\n",
    "y_pred_prob = rndClf.predict_proba(X_test)[:, 1]     \n",
    "\n",
    "# Calculate the roc metrics\n",
    "fpr, tpr, thresholds = roc_curve(y_test, y_pred_prob)\n",
    "    \n",
    "# Plot the ROC curve\n",
    "plt.plot(fpr, tpr)\n",
    "\n",
    "# Add labels and diagonal line\n",
    "plt.xlabel(\"False Positive Rate\")\n",
    "plt.ylabel(\"True Positive Rate\")\n",
    "plt.plot([0, 1], [0, 1], \"k--\")\n",
    "plt.show()"
   ]
  },
  {
   "cell_type": "code",
   "execution_count": 130,
   "id": "50d0fa1e",
   "metadata": {},
   "outputs": [
    {
     "name": "stdout",
     "output_type": "stream",
     "text": [
      "0.9069542412732864\n"
     ]
    }
   ],
   "source": [
    "# Print the AUC\n",
    "print(roc_auc_score(y_test, y_pred_prob))"
   ]
  },
  {
   "cell_type": "markdown",
   "id": "6fd200ae",
   "metadata": {},
   "source": [
    "Both are important metrics, and depending on how the business is trying to model churn, you may want to focus on optimizing one over the other. Often, stakeholders are interested in a single metric that can quantify model performance. The AUC is one metric you can use in these cases, and another is the F1 score, which is calculated \n"
   ]
  },
  {
   "cell_type": "markdown",
   "id": "cb17358c",
   "metadata": {},
   "source": [
    "0.87 => This indicates that this baseline random forest classifier is quite good!"
   ]
  },
  {
   "cell_type": "code",
   "execution_count": 201,
   "id": "09354c4d",
   "metadata": {},
   "outputs": [],
   "source": [
    "# Print the F1 score\n",
    "#print(f1_score(y_test, y_pred))"
   ]
  },
  {
   "cell_type": "markdown",
   "id": "3da68250",
   "metadata": {},
   "source": [
    "# Model Tuning"
   ]
  },
  {
   "cell_type": "code",
   "execution_count": 179,
   "id": "a5928df9",
   "metadata": {},
   "outputs": [
    {
     "name": "stdout",
     "output_type": "stream",
     "text": [
      "{'max_features': 'log2'}\n"
     ]
    }
   ],
   "source": [
    "# 1. Grid Search\n",
    "\n",
    "# Create the hyperparameter grid\n",
    "param_grid = {'max_features': ['auto', 'sqrt', 'log2']}\n",
    "\n",
    "# Call GridSearchCV\n",
    "grid_search = GridSearchCV(rndClf, param_grid)\n",
    "\n",
    "# Fit the model\n",
    "grid_search.fit(X, y)\n",
    "\n",
    "# Print the optimal parameters\n",
    "print(grid_search.best_params_)"
   ]
  },
  {
   "cell_type": "code",
   "execution_count": 169,
   "id": "164c4457",
   "metadata": {},
   "outputs": [
    {
     "data": {
      "text/plain": [
       "GridSearchCV(estimator=RandomForestClassifier(),\n",
       "             param_grid={'bootstrap': [True, False],\n",
       "                         'criterion': ['gini', 'entropy'],\n",
       "                         'max_depth': [3, None], 'max_features': [1, 3, 10]})"
      ]
     },
     "execution_count": 169,
     "metadata": {},
     "output_type": "execute_result"
    }
   ],
   "source": [
    "# Create the hyperparameter grid\n",
    "param_grid2 = {\"max_depth\": [3, None],\n",
    "              \"max_features\": [1, 3, 10],\n",
    "              \"bootstrap\": [True, False],\n",
    "              \"criterion\": [\"gini\", \"entropy\"]}\n",
    "\n",
    "# Call GridSearchCV\n",
    "grid_search2 = GridSearchCV(rndClf, param_grid2)\n",
    "\n",
    "# Fit the model\n",
    "grid_search2.fit(X,y)"
   ]
  },
  {
   "cell_type": "code",
   "execution_count": 171,
   "id": "57a9451f",
   "metadata": {},
   "outputs": [
    {
     "data": {
      "text/plain": [
       "{'bootstrap': True,\n",
       " 'criterion': 'entropy',\n",
       " 'max_depth': None,\n",
       " 'max_features': 10}"
      ]
     },
     "execution_count": 171,
     "metadata": {},
     "output_type": "execute_result"
    }
   ],
   "source": [
    "grid_search2.best_params_"
   ]
  },
  {
   "cell_type": "code",
   "execution_count": 180,
   "id": "f1c65a05",
   "metadata": {},
   "outputs": [],
   "source": [
    "# 2. Feature importances (Which features are important in driving churn)\n",
    "importances = rndClf.feature_importances_"
   ]
  },
  {
   "cell_type": "code",
   "execution_count": 181,
   "id": "78755fca",
   "metadata": {
    "scrolled": true
   },
   "outputs": [
    {
     "data": {
      "image/png": "[encoded data removed]",
      "text/plain": [
       "<Figure size 432x288 with 1 Axes>"
      ]
     },
     "metadata": {
      "needs_background": "light"
     },
     "output_type": "display_data"
    }
   ],
   "source": [
    "# Sort importances\n",
    "sorted_index = np.argsort(importances)\n",
    "\n",
    "# Create labels\n",
    "labels = X.columns[sorted_index]\n",
    "\n",
    "# Clear current plot\n",
    "plt.clf()\n",
    "\n",
    "# Create plot\n",
    "plt.barh(range(X.shape[1]), importances[sorted_index], tick_label=labels)\n",
    "plt.show()"
   ]
  },
  {
   "cell_type": "markdown",
   "id": "488e4b12",
   "metadata": {},
   "source": [
    "The plot tells us that CustServ_Calls, Day_Mins and Day_Charge are the most important drivers of churn. What if we added additional sources of data and more features?\n",
    "\n",
    "6 new features have been added to the telco DataFrame:\n",
    "\n",
    "Region_Code\n",
    "Cost_Call\n",
    "Total_Charge\n",
    "Total_Minutes\n",
    "Total_Calls\n",
    "Min_Call"
   ]
  }
 ],
 "metadata": {
  "kernelspec": {
   "display_name": "Python 3 (ipykernel)",
   "language": "python",
   "name": "python3"
  },
  "language_info": {
   "codemirror_mode": {
    "name": "ipython",
    "version": 3
   },
   "file_extension": ".py",
   "mimetype": "text/x-python",
   "name": "python",
   "nbconvert_exporter": "python",
   "pygments_lexer": "ipython3",
   "version": "3.8.5"
  }
 },
 "nbformat": 4,
 "nbformat_minor": 5
}
